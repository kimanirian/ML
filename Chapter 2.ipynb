{
 "cells": [
  {
   "cell_type": "markdown",
   "id": "2c35a2ef",
   "metadata": {},
   "source": [
    "Program that uses input to prompt a user fro  their name and welcomes them"
   ]
  },
  {
   "cell_type": "code",
   "execution_count": 2,
   "id": "2e0093f8",
   "metadata": {},
   "outputs": [
    {
     "name": "stdout",
     "output_type": "stream",
     "text": [
      "Name:Brian\n",
      "Hello  Brian\n"
     ]
    }
   ],
   "source": [
    "name =input(\"Name:\")\n",
    "print(\"Hello \",name)"
   ]
  },
  {
   "cell_type": "code",
   "execution_count": 4,
   "id": "14ddd547",
   "metadata": {},
   "outputs": [
    {
     "name": "stdout",
     "output_type": "stream",
     "text": [
      "The number of hours to work:5\n",
      "The rate per hour of pay:52\n",
      "The gross pay is 260\n"
     ]
    }
   ],
   "source": [
    "'''Program that prompts user for hours and ate per hour to compute gross pay'''\n",
    "hour=int(input(\"The number of hours to work:\"))\n",
    "rate=int(input(\"The rate per hour of pay:\"))\n",
    "gross_pay=hour*rate\n",
    "print(f'The gross pay is {gross_pay}')"
   ]
  },
  {
   "cell_type": "code",
   "execution_count": 9,
   "id": "5710783e",
   "metadata": {},
   "outputs": [
    {
     "data": {
      "text/plain": [
       "4.0"
      ]
     },
     "execution_count": 9,
     "metadata": {},
     "output_type": "execute_result"
    }
   ],
   "source": [
    "'''for each of the given expresion write the type of value it gives'''\n",
    "width=17\n",
    "height=12\n",
    "\n",
    "width//2 #integer\n",
    "width/2.0# float\n",
    "height/3 #integer"
   ]
  },
  {
   "cell_type": "code",
   "execution_count": 3,
   "id": "94b582f3",
   "metadata": {},
   "outputs": [
    {
     "name": "stdout",
     "output_type": "stream",
     "text": [
      "The Body temp in Degrees Celcius:45\n",
      "The temperature in Fahrenheit is 3.53125\n"
     ]
    }
   ],
   "source": [
    "'''Prgram that prompts user for celcius temp,converts temp to Fahrenheit,and prints out the converted temperature'''\n",
    "temp=int(input(\"The Body temp in Degrees Celcius:\"))\n",
    "# (32°F − 32) × 5/9 = 0°C\n",
    "F=(9/5*(temp)+32)/32\n",
    "print(f\"The temperature in Fahrenheit is {F}\")"
   ]
  },
  {
   "cell_type": "markdown",
   "id": "e5a3289b",
   "metadata": {},
   "source": [
    "## Chapter 3"
   ]
  },
  {
   "cell_type": "code",
   "execution_count": 3,
   "id": "fe5a625c",
   "metadata": {},
   "outputs": [
    {
     "name": "stdout",
     "output_type": "stream",
     "text": [
      "Please enter your score:0.1\n",
      "F\n"
     ]
    }
   ],
   "source": [
    "score=float(input(\"Please enter your score:\"))\n",
    "if score>1 or score<0:\n",
    "    print(\"ERROR!!!\")\n",
    "if score >=0.9:\n",
    "    print(\"A\")\n",
    "if score >=0.8:\n",
    "    print(\"B\")\n",
    "if score >=0.7:\n",
    "    print(\"C\")\n",
    "if score>=0.6:\n",
    "    print(\"D\")\n",
    "if score <0.6:\n",
    "    print(\"F\")"
   ]
  },
  {
   "cell_type": "code",
   "execution_count": 6,
   "id": "f453d458",
   "metadata": {},
   "outputs": [
    {
     "name": "stdout",
     "output_type": "stream",
     "text": [
      "The number of hours worked:10\n",
      "The pay is 10\n"
     ]
    }
   ],
   "source": [
    "work=40\n",
    "w=int(input(\"The number of hours worked:\"))\n",
    "if w>40:\n",
    "    pay=w*1.5\n",
    "    print(\"The pay is \",pay)\n",
    "else:\n",
    "    pay= w*1\n",
    "    print(\"The pay is\",pay)"
   ]
  },
  {
   "cell_type": "code",
   "execution_count": 11,
   "id": "acee6044",
   "metadata": {},
   "outputs": [
    {
     "name": "stdout",
     "output_type": "stream",
     "text": [
      "Pliz enter the number of hours worked:5\n",
      "Enter the rate:5\n",
      "25\n"
     ]
    }
   ],
   "source": [
    "hours=int(input(\"Pliz enter the number of hours worked:\"))\n",
    "rate=int(input(\"Enter the rate:\"))\n",
    "\n",
    "try:\n",
    "    pay=hours*rate\n",
    "    print(pay)\n",
    "except:\n",
    "    print(\"PLEASE ENTER NUMERIC DATA!!\")"
   ]
  },
  {
   "cell_type": "code",
   "execution_count": null,
   "id": "232f8ab4",
   "metadata": {},
   "outputs": [],
   "source": []
  }
 ],
 "metadata": {
  "kernelspec": {
   "display_name": "Python 3 (ipykernel)",
   "language": "python",
   "name": "python3"
  },
  "language_info": {
   "codemirror_mode": {
    "name": "ipython",
    "version": 3
   },
   "file_extension": ".py",
   "mimetype": "text/x-python",
   "name": "python",
   "nbconvert_exporter": "python",
   "pygments_lexer": "ipython3",
   "version": "3.11.4"
  }
 },
 "nbformat": 4,
 "nbformat_minor": 5
}
