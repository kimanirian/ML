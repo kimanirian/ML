{
 "cells": [
  {
   "cell_type": "markdown",
   "id": "cf4065d7",
   "metadata": {},
   "source": [
    "### Loading Model"
   ]
  },
  {
   "cell_type": "code",
   "execution_count": 1,
   "id": "6e7d03d6",
   "metadata": {},
   "outputs": [],
   "source": [
    "from keras.applications.vgg16 import VGG16\n",
    "model = VGG16()\n"
   ]
  },
  {
   "cell_type": "code",
   "execution_count": 2,
   "id": "22b1dc59",
   "metadata": {},
   "outputs": [
    {
     "data": {
      "text/html": [
       "<pre style=\"white-space:pre;overflow-x:auto;line-height:normal;font-family:Menlo,'DejaVu Sans Mono',consolas,'Courier New',monospace\"><span style=\"font-weight: bold\">Model: \"vgg16\"</span>\n",
       "</pre>\n"
      ],
      "text/plain": [
       "\u001b[1mModel: \"vgg16\"\u001b[0m\n"
      ]
     },
     "metadata": {},
     "output_type": "display_data"
    },
    {
     "data": {
      "text/html": [
       "<pre style=\"white-space:pre;overflow-x:auto;line-height:normal;font-family:Menlo,'DejaVu Sans Mono',consolas,'Courier New',monospace\">┏━━━━━━━━━━━━━━━━━━━━━━━━━━━━━━━━━━━━━━┳━━━━━━━━━━━━━━━━━━━━━━━━━━━━━┳━━━━━━━━━━━━━━━━━┓\n",
       "┃<span style=\"font-weight: bold\"> Layer (type)                         </span>┃<span style=\"font-weight: bold\"> Output Shape                </span>┃<span style=\"font-weight: bold\">         Param # </span>┃\n",
       "┡━━━━━━━━━━━━━━━━━━━━━━━━━━━━━━━━━━━━━━╇━━━━━━━━━━━━━━━━━━━━━━━━━━━━━╇━━━━━━━━━━━━━━━━━┩\n",
       "│ input_layer (<span style=\"color: #0087ff; text-decoration-color: #0087ff\">InputLayer</span>)             │ (<span style=\"color: #00d7ff; text-decoration-color: #00d7ff\">None</span>, <span style=\"color: #00af00; text-decoration-color: #00af00\">224</span>, <span style=\"color: #00af00; text-decoration-color: #00af00\">224</span>, <span style=\"color: #00af00; text-decoration-color: #00af00\">3</span>)         │               <span style=\"color: #00af00; text-decoration-color: #00af00\">0</span> │\n",
       "├──────────────────────────────────────┼─────────────────────────────┼─────────────────┤\n",
       "│ block1_conv1 (<span style=\"color: #0087ff; text-decoration-color: #0087ff\">Conv2D</span>)                │ (<span style=\"color: #00d7ff; text-decoration-color: #00d7ff\">None</span>, <span style=\"color: #00af00; text-decoration-color: #00af00\">224</span>, <span style=\"color: #00af00; text-decoration-color: #00af00\">224</span>, <span style=\"color: #00af00; text-decoration-color: #00af00\">64</span>)        │           <span style=\"color: #00af00; text-decoration-color: #00af00\">1,792</span> │\n",
       "├──────────────────────────────────────┼─────────────────────────────┼─────────────────┤\n",
       "│ block1_conv2 (<span style=\"color: #0087ff; text-decoration-color: #0087ff\">Conv2D</span>)                │ (<span style=\"color: #00d7ff; text-decoration-color: #00d7ff\">None</span>, <span style=\"color: #00af00; text-decoration-color: #00af00\">224</span>, <span style=\"color: #00af00; text-decoration-color: #00af00\">224</span>, <span style=\"color: #00af00; text-decoration-color: #00af00\">64</span>)        │          <span style=\"color: #00af00; text-decoration-color: #00af00\">36,928</span> │\n",
       "├──────────────────────────────────────┼─────────────────────────────┼─────────────────┤\n",
       "│ block1_pool (<span style=\"color: #0087ff; text-decoration-color: #0087ff\">MaxPooling2D</span>)           │ (<span style=\"color: #00d7ff; text-decoration-color: #00d7ff\">None</span>, <span style=\"color: #00af00; text-decoration-color: #00af00\">112</span>, <span style=\"color: #00af00; text-decoration-color: #00af00\">112</span>, <span style=\"color: #00af00; text-decoration-color: #00af00\">64</span>)        │               <span style=\"color: #00af00; text-decoration-color: #00af00\">0</span> │\n",
       "├──────────────────────────────────────┼─────────────────────────────┼─────────────────┤\n",
       "│ block2_conv1 (<span style=\"color: #0087ff; text-decoration-color: #0087ff\">Conv2D</span>)                │ (<span style=\"color: #00d7ff; text-decoration-color: #00d7ff\">None</span>, <span style=\"color: #00af00; text-decoration-color: #00af00\">112</span>, <span style=\"color: #00af00; text-decoration-color: #00af00\">112</span>, <span style=\"color: #00af00; text-decoration-color: #00af00\">128</span>)       │          <span style=\"color: #00af00; text-decoration-color: #00af00\">73,856</span> │\n",
       "├──────────────────────────────────────┼─────────────────────────────┼─────────────────┤\n",
       "│ block2_conv2 (<span style=\"color: #0087ff; text-decoration-color: #0087ff\">Conv2D</span>)                │ (<span style=\"color: #00d7ff; text-decoration-color: #00d7ff\">None</span>, <span style=\"color: #00af00; text-decoration-color: #00af00\">112</span>, <span style=\"color: #00af00; text-decoration-color: #00af00\">112</span>, <span style=\"color: #00af00; text-decoration-color: #00af00\">128</span>)       │         <span style=\"color: #00af00; text-decoration-color: #00af00\">147,584</span> │\n",
       "├──────────────────────────────────────┼─────────────────────────────┼─────────────────┤\n",
       "│ block2_pool (<span style=\"color: #0087ff; text-decoration-color: #0087ff\">MaxPooling2D</span>)           │ (<span style=\"color: #00d7ff; text-decoration-color: #00d7ff\">None</span>, <span style=\"color: #00af00; text-decoration-color: #00af00\">56</span>, <span style=\"color: #00af00; text-decoration-color: #00af00\">56</span>, <span style=\"color: #00af00; text-decoration-color: #00af00\">128</span>)         │               <span style=\"color: #00af00; text-decoration-color: #00af00\">0</span> │\n",
       "├──────────────────────────────────────┼─────────────────────────────┼─────────────────┤\n",
       "│ block3_conv1 (<span style=\"color: #0087ff; text-decoration-color: #0087ff\">Conv2D</span>)                │ (<span style=\"color: #00d7ff; text-decoration-color: #00d7ff\">None</span>, <span style=\"color: #00af00; text-decoration-color: #00af00\">56</span>, <span style=\"color: #00af00; text-decoration-color: #00af00\">56</span>, <span style=\"color: #00af00; text-decoration-color: #00af00\">256</span>)         │         <span style=\"color: #00af00; text-decoration-color: #00af00\">295,168</span> │\n",
       "├──────────────────────────────────────┼─────────────────────────────┼─────────────────┤\n",
       "│ block3_conv2 (<span style=\"color: #0087ff; text-decoration-color: #0087ff\">Conv2D</span>)                │ (<span style=\"color: #00d7ff; text-decoration-color: #00d7ff\">None</span>, <span style=\"color: #00af00; text-decoration-color: #00af00\">56</span>, <span style=\"color: #00af00; text-decoration-color: #00af00\">56</span>, <span style=\"color: #00af00; text-decoration-color: #00af00\">256</span>)         │         <span style=\"color: #00af00; text-decoration-color: #00af00\">590,080</span> │\n",
       "├──────────────────────────────────────┼─────────────────────────────┼─────────────────┤\n",
       "│ block3_conv3 (<span style=\"color: #0087ff; text-decoration-color: #0087ff\">Conv2D</span>)                │ (<span style=\"color: #00d7ff; text-decoration-color: #00d7ff\">None</span>, <span style=\"color: #00af00; text-decoration-color: #00af00\">56</span>, <span style=\"color: #00af00; text-decoration-color: #00af00\">56</span>, <span style=\"color: #00af00; text-decoration-color: #00af00\">256</span>)         │         <span style=\"color: #00af00; text-decoration-color: #00af00\">590,080</span> │\n",
       "├──────────────────────────────────────┼─────────────────────────────┼─────────────────┤\n",
       "│ block3_pool (<span style=\"color: #0087ff; text-decoration-color: #0087ff\">MaxPooling2D</span>)           │ (<span style=\"color: #00d7ff; text-decoration-color: #00d7ff\">None</span>, <span style=\"color: #00af00; text-decoration-color: #00af00\">28</span>, <span style=\"color: #00af00; text-decoration-color: #00af00\">28</span>, <span style=\"color: #00af00; text-decoration-color: #00af00\">256</span>)         │               <span style=\"color: #00af00; text-decoration-color: #00af00\">0</span> │\n",
       "├──────────────────────────────────────┼─────────────────────────────┼─────────────────┤\n",
       "│ block4_conv1 (<span style=\"color: #0087ff; text-decoration-color: #0087ff\">Conv2D</span>)                │ (<span style=\"color: #00d7ff; text-decoration-color: #00d7ff\">None</span>, <span style=\"color: #00af00; text-decoration-color: #00af00\">28</span>, <span style=\"color: #00af00; text-decoration-color: #00af00\">28</span>, <span style=\"color: #00af00; text-decoration-color: #00af00\">512</span>)         │       <span style=\"color: #00af00; text-decoration-color: #00af00\">1,180,160</span> │\n",
       "├──────────────────────────────────────┼─────────────────────────────┼─────────────────┤\n",
       "│ block4_conv2 (<span style=\"color: #0087ff; text-decoration-color: #0087ff\">Conv2D</span>)                │ (<span style=\"color: #00d7ff; text-decoration-color: #00d7ff\">None</span>, <span style=\"color: #00af00; text-decoration-color: #00af00\">28</span>, <span style=\"color: #00af00; text-decoration-color: #00af00\">28</span>, <span style=\"color: #00af00; text-decoration-color: #00af00\">512</span>)         │       <span style=\"color: #00af00; text-decoration-color: #00af00\">2,359,808</span> │\n",
       "├──────────────────────────────────────┼─────────────────────────────┼─────────────────┤\n",
       "│ block4_conv3 (<span style=\"color: #0087ff; text-decoration-color: #0087ff\">Conv2D</span>)                │ (<span style=\"color: #00d7ff; text-decoration-color: #00d7ff\">None</span>, <span style=\"color: #00af00; text-decoration-color: #00af00\">28</span>, <span style=\"color: #00af00; text-decoration-color: #00af00\">28</span>, <span style=\"color: #00af00; text-decoration-color: #00af00\">512</span>)         │       <span style=\"color: #00af00; text-decoration-color: #00af00\">2,359,808</span> │\n",
       "├──────────────────────────────────────┼─────────────────────────────┼─────────────────┤\n",
       "│ block4_pool (<span style=\"color: #0087ff; text-decoration-color: #0087ff\">MaxPooling2D</span>)           │ (<span style=\"color: #00d7ff; text-decoration-color: #00d7ff\">None</span>, <span style=\"color: #00af00; text-decoration-color: #00af00\">14</span>, <span style=\"color: #00af00; text-decoration-color: #00af00\">14</span>, <span style=\"color: #00af00; text-decoration-color: #00af00\">512</span>)         │               <span style=\"color: #00af00; text-decoration-color: #00af00\">0</span> │\n",
       "├──────────────────────────────────────┼─────────────────────────────┼─────────────────┤\n",
       "│ block5_conv1 (<span style=\"color: #0087ff; text-decoration-color: #0087ff\">Conv2D</span>)                │ (<span style=\"color: #00d7ff; text-decoration-color: #00d7ff\">None</span>, <span style=\"color: #00af00; text-decoration-color: #00af00\">14</span>, <span style=\"color: #00af00; text-decoration-color: #00af00\">14</span>, <span style=\"color: #00af00; text-decoration-color: #00af00\">512</span>)         │       <span style=\"color: #00af00; text-decoration-color: #00af00\">2,359,808</span> │\n",
       "├──────────────────────────────────────┼─────────────────────────────┼─────────────────┤\n",
       "│ block5_conv2 (<span style=\"color: #0087ff; text-decoration-color: #0087ff\">Conv2D</span>)                │ (<span style=\"color: #00d7ff; text-decoration-color: #00d7ff\">None</span>, <span style=\"color: #00af00; text-decoration-color: #00af00\">14</span>, <span style=\"color: #00af00; text-decoration-color: #00af00\">14</span>, <span style=\"color: #00af00; text-decoration-color: #00af00\">512</span>)         │       <span style=\"color: #00af00; text-decoration-color: #00af00\">2,359,808</span> │\n",
       "├──────────────────────────────────────┼─────────────────────────────┼─────────────────┤\n",
       "│ block5_conv3 (<span style=\"color: #0087ff; text-decoration-color: #0087ff\">Conv2D</span>)                │ (<span style=\"color: #00d7ff; text-decoration-color: #00d7ff\">None</span>, <span style=\"color: #00af00; text-decoration-color: #00af00\">14</span>, <span style=\"color: #00af00; text-decoration-color: #00af00\">14</span>, <span style=\"color: #00af00; text-decoration-color: #00af00\">512</span>)         │       <span style=\"color: #00af00; text-decoration-color: #00af00\">2,359,808</span> │\n",
       "├──────────────────────────────────────┼─────────────────────────────┼─────────────────┤\n",
       "│ block5_pool (<span style=\"color: #0087ff; text-decoration-color: #0087ff\">MaxPooling2D</span>)           │ (<span style=\"color: #00d7ff; text-decoration-color: #00d7ff\">None</span>, <span style=\"color: #00af00; text-decoration-color: #00af00\">7</span>, <span style=\"color: #00af00; text-decoration-color: #00af00\">7</span>, <span style=\"color: #00af00; text-decoration-color: #00af00\">512</span>)           │               <span style=\"color: #00af00; text-decoration-color: #00af00\">0</span> │\n",
       "├──────────────────────────────────────┼─────────────────────────────┼─────────────────┤\n",
       "│ flatten (<span style=\"color: #0087ff; text-decoration-color: #0087ff\">Flatten</span>)                    │ (<span style=\"color: #00d7ff; text-decoration-color: #00d7ff\">None</span>, <span style=\"color: #00af00; text-decoration-color: #00af00\">25088</span>)               │               <span style=\"color: #00af00; text-decoration-color: #00af00\">0</span> │\n",
       "├──────────────────────────────────────┼─────────────────────────────┼─────────────────┤\n",
       "│ fc1 (<span style=\"color: #0087ff; text-decoration-color: #0087ff\">Dense</span>)                          │ (<span style=\"color: #00d7ff; text-decoration-color: #00d7ff\">None</span>, <span style=\"color: #00af00; text-decoration-color: #00af00\">4096</span>)                │     <span style=\"color: #00af00; text-decoration-color: #00af00\">102,764,544</span> │\n",
       "├──────────────────────────────────────┼─────────────────────────────┼─────────────────┤\n",
       "│ fc2 (<span style=\"color: #0087ff; text-decoration-color: #0087ff\">Dense</span>)                          │ (<span style=\"color: #00d7ff; text-decoration-color: #00d7ff\">None</span>, <span style=\"color: #00af00; text-decoration-color: #00af00\">4096</span>)                │      <span style=\"color: #00af00; text-decoration-color: #00af00\">16,781,312</span> │\n",
       "├──────────────────────────────────────┼─────────────────────────────┼─────────────────┤\n",
       "│ predictions (<span style=\"color: #0087ff; text-decoration-color: #0087ff\">Dense</span>)                  │ (<span style=\"color: #00d7ff; text-decoration-color: #00d7ff\">None</span>, <span style=\"color: #00af00; text-decoration-color: #00af00\">1000</span>)                │       <span style=\"color: #00af00; text-decoration-color: #00af00\">4,097,000</span> │\n",
       "└──────────────────────────────────────┴─────────────────────────────┴─────────────────┘\n",
       "</pre>\n"
      ],
      "text/plain": [
       "┏━━━━━━━━━━━━━━━━━━━━━━━━━━━━━━━━━━━━━━┳━━━━━━━━━━━━━━━━━━━━━━━━━━━━━┳━━━━━━━━━━━━━━━━━┓\n",
       "┃\u001b[1m \u001b[0m\u001b[1mLayer (type)                        \u001b[0m\u001b[1m \u001b[0m┃\u001b[1m \u001b[0m\u001b[1mOutput Shape               \u001b[0m\u001b[1m \u001b[0m┃\u001b[1m \u001b[0m\u001b[1m        Param #\u001b[0m\u001b[1m \u001b[0m┃\n",
       "┡━━━━━━━━━━━━━━━━━━━━━━━━━━━━━━━━━━━━━━╇━━━━━━━━━━━━━━━━━━━━━━━━━━━━━╇━━━━━━━━━━━━━━━━━┩\n",
       "│ input_layer (\u001b[38;5;33mInputLayer\u001b[0m)             │ (\u001b[38;5;45mNone\u001b[0m, \u001b[38;5;34m224\u001b[0m, \u001b[38;5;34m224\u001b[0m, \u001b[38;5;34m3\u001b[0m)         │               \u001b[38;5;34m0\u001b[0m │\n",
       "├──────────────────────────────────────┼─────────────────────────────┼─────────────────┤\n",
       "│ block1_conv1 (\u001b[38;5;33mConv2D\u001b[0m)                │ (\u001b[38;5;45mNone\u001b[0m, \u001b[38;5;34m224\u001b[0m, \u001b[38;5;34m224\u001b[0m, \u001b[38;5;34m64\u001b[0m)        │           \u001b[38;5;34m1,792\u001b[0m │\n",
       "├──────────────────────────────────────┼─────────────────────────────┼─────────────────┤\n",
       "│ block1_conv2 (\u001b[38;5;33mConv2D\u001b[0m)                │ (\u001b[38;5;45mNone\u001b[0m, \u001b[38;5;34m224\u001b[0m, \u001b[38;5;34m224\u001b[0m, \u001b[38;5;34m64\u001b[0m)        │          \u001b[38;5;34m36,928\u001b[0m │\n",
       "├──────────────────────────────────────┼─────────────────────────────┼─────────────────┤\n",
       "│ block1_pool (\u001b[38;5;33mMaxPooling2D\u001b[0m)           │ (\u001b[38;5;45mNone\u001b[0m, \u001b[38;5;34m112\u001b[0m, \u001b[38;5;34m112\u001b[0m, \u001b[38;5;34m64\u001b[0m)        │               \u001b[38;5;34m0\u001b[0m │\n",
       "├──────────────────────────────────────┼─────────────────────────────┼─────────────────┤\n",
       "│ block2_conv1 (\u001b[38;5;33mConv2D\u001b[0m)                │ (\u001b[38;5;45mNone\u001b[0m, \u001b[38;5;34m112\u001b[0m, \u001b[38;5;34m112\u001b[0m, \u001b[38;5;34m128\u001b[0m)       │          \u001b[38;5;34m73,856\u001b[0m │\n",
       "├──────────────────────────────────────┼─────────────────────────────┼─────────────────┤\n",
       "│ block2_conv2 (\u001b[38;5;33mConv2D\u001b[0m)                │ (\u001b[38;5;45mNone\u001b[0m, \u001b[38;5;34m112\u001b[0m, \u001b[38;5;34m112\u001b[0m, \u001b[38;5;34m128\u001b[0m)       │         \u001b[38;5;34m147,584\u001b[0m │\n",
       "├──────────────────────────────────────┼─────────────────────────────┼─────────────────┤\n",
       "│ block2_pool (\u001b[38;5;33mMaxPooling2D\u001b[0m)           │ (\u001b[38;5;45mNone\u001b[0m, \u001b[38;5;34m56\u001b[0m, \u001b[38;5;34m56\u001b[0m, \u001b[38;5;34m128\u001b[0m)         │               \u001b[38;5;34m0\u001b[0m │\n",
       "├──────────────────────────────────────┼─────────────────────────────┼─────────────────┤\n",
       "│ block3_conv1 (\u001b[38;5;33mConv2D\u001b[0m)                │ (\u001b[38;5;45mNone\u001b[0m, \u001b[38;5;34m56\u001b[0m, \u001b[38;5;34m56\u001b[0m, \u001b[38;5;34m256\u001b[0m)         │         \u001b[38;5;34m295,168\u001b[0m │\n",
       "├──────────────────────────────────────┼─────────────────────────────┼─────────────────┤\n",
       "│ block3_conv2 (\u001b[38;5;33mConv2D\u001b[0m)                │ (\u001b[38;5;45mNone\u001b[0m, \u001b[38;5;34m56\u001b[0m, \u001b[38;5;34m56\u001b[0m, \u001b[38;5;34m256\u001b[0m)         │         \u001b[38;5;34m590,080\u001b[0m │\n",
       "├──────────────────────────────────────┼─────────────────────────────┼─────────────────┤\n",
       "│ block3_conv3 (\u001b[38;5;33mConv2D\u001b[0m)                │ (\u001b[38;5;45mNone\u001b[0m, \u001b[38;5;34m56\u001b[0m, \u001b[38;5;34m56\u001b[0m, \u001b[38;5;34m256\u001b[0m)         │         \u001b[38;5;34m590,080\u001b[0m │\n",
       "├──────────────────────────────────────┼─────────────────────────────┼─────────────────┤\n",
       "│ block3_pool (\u001b[38;5;33mMaxPooling2D\u001b[0m)           │ (\u001b[38;5;45mNone\u001b[0m, \u001b[38;5;34m28\u001b[0m, \u001b[38;5;34m28\u001b[0m, \u001b[38;5;34m256\u001b[0m)         │               \u001b[38;5;34m0\u001b[0m │\n",
       "├──────────────────────────────────────┼─────────────────────────────┼─────────────────┤\n",
       "│ block4_conv1 (\u001b[38;5;33mConv2D\u001b[0m)                │ (\u001b[38;5;45mNone\u001b[0m, \u001b[38;5;34m28\u001b[0m, \u001b[38;5;34m28\u001b[0m, \u001b[38;5;34m512\u001b[0m)         │       \u001b[38;5;34m1,180,160\u001b[0m │\n",
       "├──────────────────────────────────────┼─────────────────────────────┼─────────────────┤\n",
       "│ block4_conv2 (\u001b[38;5;33mConv2D\u001b[0m)                │ (\u001b[38;5;45mNone\u001b[0m, \u001b[38;5;34m28\u001b[0m, \u001b[38;5;34m28\u001b[0m, \u001b[38;5;34m512\u001b[0m)         │       \u001b[38;5;34m2,359,808\u001b[0m │\n",
       "├──────────────────────────────────────┼─────────────────────────────┼─────────────────┤\n",
       "│ block4_conv3 (\u001b[38;5;33mConv2D\u001b[0m)                │ (\u001b[38;5;45mNone\u001b[0m, \u001b[38;5;34m28\u001b[0m, \u001b[38;5;34m28\u001b[0m, \u001b[38;5;34m512\u001b[0m)         │       \u001b[38;5;34m2,359,808\u001b[0m │\n",
       "├──────────────────────────────────────┼─────────────────────────────┼─────────────────┤\n",
       "│ block4_pool (\u001b[38;5;33mMaxPooling2D\u001b[0m)           │ (\u001b[38;5;45mNone\u001b[0m, \u001b[38;5;34m14\u001b[0m, \u001b[38;5;34m14\u001b[0m, \u001b[38;5;34m512\u001b[0m)         │               \u001b[38;5;34m0\u001b[0m │\n",
       "├──────────────────────────────────────┼─────────────────────────────┼─────────────────┤\n",
       "│ block5_conv1 (\u001b[38;5;33mConv2D\u001b[0m)                │ (\u001b[38;5;45mNone\u001b[0m, \u001b[38;5;34m14\u001b[0m, \u001b[38;5;34m14\u001b[0m, \u001b[38;5;34m512\u001b[0m)         │       \u001b[38;5;34m2,359,808\u001b[0m │\n",
       "├──────────────────────────────────────┼─────────────────────────────┼─────────────────┤\n",
       "│ block5_conv2 (\u001b[38;5;33mConv2D\u001b[0m)                │ (\u001b[38;5;45mNone\u001b[0m, \u001b[38;5;34m14\u001b[0m, \u001b[38;5;34m14\u001b[0m, \u001b[38;5;34m512\u001b[0m)         │       \u001b[38;5;34m2,359,808\u001b[0m │\n",
       "├──────────────────────────────────────┼─────────────────────────────┼─────────────────┤\n",
       "│ block5_conv3 (\u001b[38;5;33mConv2D\u001b[0m)                │ (\u001b[38;5;45mNone\u001b[0m, \u001b[38;5;34m14\u001b[0m, \u001b[38;5;34m14\u001b[0m, \u001b[38;5;34m512\u001b[0m)         │       \u001b[38;5;34m2,359,808\u001b[0m │\n",
       "├──────────────────────────────────────┼─────────────────────────────┼─────────────────┤\n",
       "│ block5_pool (\u001b[38;5;33mMaxPooling2D\u001b[0m)           │ (\u001b[38;5;45mNone\u001b[0m, \u001b[38;5;34m7\u001b[0m, \u001b[38;5;34m7\u001b[0m, \u001b[38;5;34m512\u001b[0m)           │               \u001b[38;5;34m0\u001b[0m │\n",
       "├──────────────────────────────────────┼─────────────────────────────┼─────────────────┤\n",
       "│ flatten (\u001b[38;5;33mFlatten\u001b[0m)                    │ (\u001b[38;5;45mNone\u001b[0m, \u001b[38;5;34m25088\u001b[0m)               │               \u001b[38;5;34m0\u001b[0m │\n",
       "├──────────────────────────────────────┼─────────────────────────────┼─────────────────┤\n",
       "│ fc1 (\u001b[38;5;33mDense\u001b[0m)                          │ (\u001b[38;5;45mNone\u001b[0m, \u001b[38;5;34m4096\u001b[0m)                │     \u001b[38;5;34m102,764,544\u001b[0m │\n",
       "├──────────────────────────────────────┼─────────────────────────────┼─────────────────┤\n",
       "│ fc2 (\u001b[38;5;33mDense\u001b[0m)                          │ (\u001b[38;5;45mNone\u001b[0m, \u001b[38;5;34m4096\u001b[0m)                │      \u001b[38;5;34m16,781,312\u001b[0m │\n",
       "├──────────────────────────────────────┼─────────────────────────────┼─────────────────┤\n",
       "│ predictions (\u001b[38;5;33mDense\u001b[0m)                  │ (\u001b[38;5;45mNone\u001b[0m, \u001b[38;5;34m1000\u001b[0m)                │       \u001b[38;5;34m4,097,000\u001b[0m │\n",
       "└──────────────────────────────────────┴─────────────────────────────┴─────────────────┘\n"
      ]
     },
     "metadata": {},
     "output_type": "display_data"
    },
    {
     "data": {
      "text/html": [
       "<pre style=\"white-space:pre;overflow-x:auto;line-height:normal;font-family:Menlo,'DejaVu Sans Mono',consolas,'Courier New',monospace\"><span style=\"font-weight: bold\"> Total params: </span><span style=\"color: #00af00; text-decoration-color: #00af00\">138,357,544</span> (527.79 MB)\n",
       "</pre>\n"
      ],
      "text/plain": [
       "\u001b[1m Total params: \u001b[0m\u001b[38;5;34m138,357,544\u001b[0m (527.79 MB)\n"
      ]
     },
     "metadata": {},
     "output_type": "display_data"
    },
    {
     "data": {
      "text/html": [
       "<pre style=\"white-space:pre;overflow-x:auto;line-height:normal;font-family:Menlo,'DejaVu Sans Mono',consolas,'Courier New',monospace\"><span style=\"font-weight: bold\"> Trainable params: </span><span style=\"color: #00af00; text-decoration-color: #00af00\">138,357,544</span> (527.79 MB)\n",
       "</pre>\n"
      ],
      "text/plain": [
       "\u001b[1m Trainable params: \u001b[0m\u001b[38;5;34m138,357,544\u001b[0m (527.79 MB)\n"
      ]
     },
     "metadata": {},
     "output_type": "display_data"
    },
    {
     "data": {
      "text/html": [
       "<pre style=\"white-space:pre;overflow-x:auto;line-height:normal;font-family:Menlo,'DejaVu Sans Mono',consolas,'Courier New',monospace\"><span style=\"font-weight: bold\"> Non-trainable params: </span><span style=\"color: #00af00; text-decoration-color: #00af00\">0</span> (0.00 B)\n",
       "</pre>\n"
      ],
      "text/plain": [
       "\u001b[1m Non-trainable params: \u001b[0m\u001b[38;5;34m0\u001b[0m (0.00 B)\n"
      ]
     },
     "metadata": {},
     "output_type": "display_data"
    }
   ],
   "source": [
    "model.summary()"
   ]
  },
  {
   "cell_type": "code",
   "execution_count": 3,
   "id": "1090a16f",
   "metadata": {},
   "outputs": [
    {
     "name": "stdout",
     "output_type": "stream",
     "text": [
      "You must install graphviz (see instructions at https://graphviz.gitlab.io/download/) for `plot_model` to work.\n"
     ]
    }
   ],
   "source": [
    "from keras.applications.vgg16 import VGG16\n",
    "from tensorflow.keras.utils import plot_model\n",
    "model = VGG16()\n",
    "plot_model(model, to_file='vgg.png')"
   ]
  },
  {
   "cell_type": "markdown",
   "id": "1f4637af",
   "metadata": {},
   "source": [
    "### Loading photo"
   ]
  },
  {
   "cell_type": "code",
   "execution_count": 4,
   "id": "09b0a27f",
   "metadata": {},
   "outputs": [
    {
     "data": {
      "image/png": "[encoded data removed]",
      "text/plain": [
       "<PIL.Image.Image image mode=RGB size=224x224>"
      ]
     },
     "execution_count": 4,
     "metadata": {},
     "output_type": "execute_result"
    }
   ],
   "source": [
    "from keras.preprocessing.image import load_img\n",
    "# load an image from file\n",
    "image = load_img('mug.jpg', target_size=(224, 224))\n",
    "image"
   ]
  },
  {
   "cell_type": "code",
   "execution_count": 5,
   "id": "182f3709",
   "metadata": {},
   "outputs": [],
   "source": [
    "from keras.preprocessing.image import img_to_array\n",
    "# convert the image pixels to a NumPy array\n",
    "image = img_to_array(image)\n",
    "# image\n"
   ]
  },
  {
   "cell_type": "code",
   "execution_count": 6,
   "id": "b9221d2f",
   "metadata": {},
   "outputs": [],
   "source": [
    "# reshape data for the model\n",
    "image = image.reshape((1, image.shape[0], image.shape[1], image.shape[2]))\n"
   ]
  },
  {
   "cell_type": "code",
   "execution_count": 7,
   "id": "9b94e0e9",
   "metadata": {},
   "outputs": [],
   "source": [
    "from keras.applications.vgg16 import preprocess_input\n",
    "# prepare the image for the VGG model\n",
    "image = preprocess_input(image)"
   ]
  },
  {
   "cell_type": "code",
   "execution_count": 8,
   "id": "59e5b36b",
   "metadata": {},
   "outputs": [
    {
     "name": "stdout",
     "output_type": "stream",
     "text": [
      "\u001b[1m1/1\u001b[0m \u001b[32m━━━━━━━━━━━━━━━━━━━━\u001b[0m\u001b[37m\u001b[0m \u001b[1m2s\u001b[0m 2s/step\n"
     ]
    },
    {
     "data": {
      "text/plain": [
       "array([[5.56387761e-07, 2.82554379e-06, 1.02114122e-07, 2.27642289e-07,\n",
       "        4.71987249e-07, 3.94632849e-07, 1.72376375e-07, 8.12159271e-07,\n",
       "        1.24303585e-06, 6.40056169e-06, 5.57561998e-06, 1.57410213e-05,\n",
       "        2.92617842e-05, 3.63617164e-06, 8.43690577e-06, 2.92395089e-06,\n",
       "        1.64126732e-06, 1.19096444e-06, 1.52265216e-06, 8.27286931e-06,\n",
       "        3.22596605e-07, 4.65606178e-07, 1.13523663e-06, 2.90802603e-07,\n",
       "        2.92196432e-07, 3.58388519e-07, 1.72757586e-06, 1.30733306e-05,\n",
       "        8.56983718e-07, 3.96219548e-06, 1.69164935e-06, 2.90490084e-06,\n",
       "        1.07999290e-06, 2.36058114e-07, 1.80145491e-07, 1.01056010e-07,\n",
       "        3.09234991e-07, 1.13970650e-07, 5.21421327e-07, 3.96646527e-07,\n",
       "        1.22006566e-06, 5.03102399e-07, 6.72343788e-07, 6.98162239e-07,\n",
       "        1.33907281e-06, 1.30051319e-06, 1.77414574e-06, 8.19886964e-07,\n",
       "        5.73796569e-07, 5.22323603e-07, 2.63646143e-07, 2.65581690e-07,\n",
       "        1.27801977e-05, 6.65327207e-06, 2.79172241e-06, 1.57392094e-06,\n",
       "        2.05133779e-06, 3.65505542e-07, 9.32159082e-07, 4.84460315e-06,\n",
       "        2.06806931e-06, 1.41724740e-06, 2.83865205e-07, 7.66394805e-06,\n",
       "        4.08071031e-07, 9.09179050e-07, 1.49026232e-06, 1.17977061e-06,\n",
       "        1.33138190e-06, 2.20409333e-06, 6.41486713e-06, 4.86742965e-06,\n",
       "        6.20610308e-07, 1.32198886e-06, 4.71332328e-07, 5.71763803e-06,\n",
       "        1.93627716e-06, 3.95790175e-06, 3.50647424e-05, 1.12709286e-05,\n",
       "        2.75796737e-07, 3.05715048e-07, 1.26297459e-06, 3.47794639e-07,\n",
       "        3.81179262e-07, 2.87760099e-06, 1.43230920e-06, 2.88426645e-06,\n",
       "        2.41281413e-07, 1.71048691e-06, 3.05375443e-06, 5.07991103e-07,\n",
       "        2.33598394e-06, 4.59346865e-07, 3.06372772e-06, 3.30681331e-07,\n",
       "        6.77042863e-07, 4.90161824e-07, 4.72733689e-07, 2.09560631e-06,\n",
       "        1.36889741e-06, 2.87185480e-06, 5.28159205e-07, 9.05637023e-07,\n",
       "        2.26381940e-06, 7.67745519e-07, 1.13254293e-06, 5.24785207e-07,\n",
       "        1.34889660e-05, 9.64950686e-07, 9.94309175e-07, 1.57641407e-05,\n",
       "        6.51829805e-06, 4.09242375e-06, 6.58869658e-06, 7.02827890e-07,\n",
       "        1.27671467e-06, 2.40975896e-06, 6.28646285e-06, 3.85615294e-06,\n",
       "        1.01394971e-05, 1.58133685e-06, 8.07758443e-06, 2.89574018e-06,\n",
       "        2.69831435e-05, 3.34101469e-06, 2.17911065e-06, 1.00107889e-06,\n",
       "        3.05474913e-07, 4.19406376e-07, 4.22734320e-06, 4.80700919e-07,\n",
       "        6.34758544e-06, 4.21329872e-07, 1.69477562e-06, 2.29681086e-06,\n",
       "        2.20799066e-07, 2.46581465e-07, 7.42563543e-07, 6.14052965e-07,\n",
       "        1.70460658e-06, 1.64345226e-06, 9.91432557e-07, 5.00537283e-07,\n",
       "        3.66790204e-07, 4.97928067e-06, 1.19311528e-06, 1.09853772e-07,\n",
       "        1.70930139e-06, 2.79298007e-07, 5.76725597e-07, 3.55806287e-06,\n",
       "        9.89532964e-07, 3.43432544e-06, 2.87948706e-06, 9.89455543e-07,\n",
       "        9.54852680e-07, 7.61175443e-07, 8.88949216e-07, 2.23397819e-06,\n",
       "        3.10524774e-06, 3.12570683e-06, 8.95049368e-07, 2.05547553e-06,\n",
       "        1.29596322e-06, 1.30685896e-06, 7.12235874e-07, 1.24622647e-06,\n",
       "        5.58996362e-06, 7.58566614e-07, 2.29598527e-06, 3.20111894e-06,\n",
       "        1.22063125e-06, 3.01039836e-06, 4.64141408e-07, 2.89149307e-06,\n",
       "        8.13498787e-07, 4.84356360e-06, 3.56047940e-06, 7.56377858e-07,\n",
       "        1.39139092e-06, 5.15723559e-06, 5.15792863e-06, 2.25812200e-05,\n",
       "        2.05330016e-05, 9.22753861e-06, 5.85442831e-06, 2.88105821e-06,\n",
       "        6.40679127e-06, 1.00089610e-05, 5.89869069e-06, 2.26329630e-05,\n",
       "        1.51185361e-06, 1.40149223e-06, 6.85488999e-07, 1.64370624e-06,\n",
       "        1.30018827e-06, 2.14081206e-06, 1.19995730e-06, 2.33165702e-06,\n",
       "        2.08189363e-06, 8.97120003e-07, 1.89182119e-05, 1.72313651e-06,\n",
       "        1.22219922e-06, 1.16091178e-06, 4.54112433e-06, 1.03482535e-06,\n",
       "        2.26146517e-06, 4.48589481e-06, 7.53532504e-07, 4.33483683e-06,\n",
       "        3.77850199e-07, 1.50338076e-06, 1.64848166e-06, 4.19526373e-07,\n",
       "        5.23006065e-07, 1.47674984e-06, 1.17238710e-06, 9.38060055e-07,\n",
       "        3.07317669e-06, 7.21765264e-06, 1.87371973e-06, 3.10517635e-06,\n",
       "        1.15678733e-06, 1.42423744e-06, 5.30594389e-06, 1.10051155e-06,\n",
       "        5.69079873e-07, 1.26897294e-05, 1.44539706e-06, 2.97015231e-06,\n",
       "        9.68936320e-07, 1.01731466e-05, 2.05373362e-06, 7.66031235e-07,\n",
       "        1.58670719e-06, 1.19345202e-06, 1.56803310e-06, 2.07111884e-06,\n",
       "        1.54317252e-06, 1.03959223e-06, 9.32823355e-07, 1.37313373e-06,\n",
       "        4.79415860e-07, 1.65023232e-06, 1.06105813e-06, 9.24909386e-07,\n",
       "        9.81721769e-07, 1.01060880e-06, 1.38461883e-06, 3.47723471e-06,\n",
       "        3.96734913e-06, 2.83773079e-06, 3.36397375e-06, 3.01523556e-07,\n",
       "        1.60692878e-06, 1.04368087e-06, 2.20171933e-06, 2.90977255e-06,\n",
       "        1.01477804e-06, 6.22349205e-07, 5.50719460e-06, 1.17494710e-06,\n",
       "        1.34025845e-06, 5.39610892e-06, 1.99890383e-06, 1.03815455e-06,\n",
       "        6.23184917e-07, 8.39245217e-07, 1.33551850e-06, 5.71763451e-07,\n",
       "        6.23861524e-07, 2.03352511e-06, 2.58916145e-07, 1.57920837e-07,\n",
       "        4.17766472e-07, 6.75219269e-07, 1.16030867e-06, 1.02502111e-06,\n",
       "        1.38746475e-06, 3.99479495e-06, 1.48851814e-06, 3.03053025e-06,\n",
       "        1.18009132e-06, 4.08860842e-06, 3.45168729e-07, 9.61352839e-07,\n",
       "        5.06489584e-07, 2.41798546e-07, 3.23720855e-07, 7.87258841e-07,\n",
       "        7.84071517e-07, 1.07954804e-06, 7.77567777e-07, 6.34843730e-07,\n",
       "        1.34934112e-06, 5.68278836e-07, 3.01173077e-06, 3.26962959e-06,\n",
       "        1.86871409e-06, 1.90110222e-06, 2.47907201e-06, 1.70503827e-05,\n",
       "        1.93876440e-06, 1.40103657e-06, 1.49309681e-05, 4.33248078e-06,\n",
       "        3.34257629e-06, 1.52571192e-06, 5.56719851e-06, 1.64738617e-06,\n",
       "        2.75602883e-06, 1.79634674e-06, 8.88514751e-06, 1.61755486e-06,\n",
       "        2.68803410e-06, 1.51463871e-06, 8.17509488e-07, 1.27759279e-06,\n",
       "        9.68774543e-07, 9.17657417e-07, 2.32765245e-07, 8.56735312e-07,\n",
       "        3.90868962e-07, 2.26392643e-07, 4.32509353e-07, 1.58207297e-06,\n",
       "        2.38191387e-06, 1.39862152e-06, 1.14596855e-06, 1.00038596e-06,\n",
       "        6.18030981e-07, 3.98289239e-06, 3.61744100e-07, 1.16910019e-06,\n",
       "        1.69329576e-06, 1.24790699e-06, 3.09810412e-06, 3.51584418e-07,\n",
       "        3.25818291e-07, 9.00736893e-07, 8.94420509e-07, 1.95072312e-06,\n",
       "        9.24889036e-07, 2.47096182e-06, 4.49609928e-07, 1.14144189e-06,\n",
       "        4.20072041e-07, 3.05750632e-07, 3.33982985e-06, 1.10003111e-06,\n",
       "        9.40440884e-07, 1.19126651e-06, 1.05862125e-06, 6.64003380e-07,\n",
       "        4.59204284e-06, 1.24079622e-06, 1.77415598e-06, 1.44820638e-06,\n",
       "        8.05244440e-07, 1.35811740e-06, 2.96713711e-06, 5.42640862e-07,\n",
       "        2.50234621e-07, 6.72943600e-07, 5.68179701e-07, 8.36102458e-07,\n",
       "        5.15595843e-07, 3.00216556e-07, 8.32050546e-07, 1.38200016e-06,\n",
       "        2.40458485e-06, 1.59225215e-06, 1.16594481e-06, 3.80842067e-07,\n",
       "        2.04602543e-06, 1.21378935e-06, 1.19742515e-06, 1.14886711e-06,\n",
       "        8.04463809e-07, 6.69545727e-07, 3.50561709e-06, 3.53648147e-07,\n",
       "        1.09220366e-06, 1.84134126e-06, 9.62520630e-07, 8.55597932e-07,\n",
       "        5.09891834e-07, 2.10275019e-07, 1.77414574e-06, 1.17456273e-06,\n",
       "        1.03329683e-06, 4.60689080e-06, 1.91195397e-07, 5.33047341e-07,\n",
       "        1.01471426e-06, 7.66792823e-07, 2.53585131e-06, 2.94482306e-05,\n",
       "        5.04134368e-06, 6.27948793e-06, 5.15814509e-06, 7.11577499e-08,\n",
       "        4.07178078e-07, 2.34819709e-06, 4.59983130e-06, 5.29402200e-07,\n",
       "        5.40527878e-07, 2.95876598e-05, 8.02698139e-07, 4.22285439e-06,\n",
       "        3.11786396e-04, 2.41459679e-06, 2.25130407e-06, 5.81237291e-05,\n",
       "        5.65962921e-07, 3.86955526e-06, 3.66764521e-04, 3.13514262e-04,\n",
       "        1.34537584e-06, 7.56492182e-06, 1.84869100e-06, 1.55101516e-05,\n",
       "        5.79772222e-06, 8.05268996e-07, 5.50740970e-06, 5.82769208e-05,\n",
       "        8.23834580e-06, 6.39873087e-06, 3.33230855e-06, 3.76249545e-06,\n",
       "        1.39979296e-04, 3.01420755e-06, 7.07584331e-06, 2.30641981e-05,\n",
       "        3.80041683e-07, 6.23205278e-06, 1.67343346e-03, 4.45769729e-06,\n",
       "        2.12944200e-04, 2.08767760e-03, 8.78419542e-06, 1.01282485e-05,\n",
       "        1.31449497e-06, 2.41534531e-06, 5.26019357e-05, 5.41968075e-05,\n",
       "        2.87189723e-05, 2.29365568e-07, 7.92055175e-07, 9.31101386e-06,\n",
       "        3.23420409e-06, 5.33827506e-06, 1.71973329e-06, 1.97182617e-05,\n",
       "        2.88266597e-06, 1.22885449e-05, 1.23029520e-06, 1.03346542e-06,\n",
       "        8.11707139e-07, 2.68180452e-06, 2.05319907e-06, 4.10801760e-04,\n",
       "        3.24705674e-04, 1.03453533e-06, 7.27125439e-07, 1.52325345e-06,\n",
       "        8.36268327e-07, 8.81946471e-05, 5.67057915e-03, 8.67234849e-06,\n",
       "        5.00606973e-07, 2.98913277e-04, 3.83151564e-06, 4.58534714e-06,\n",
       "        8.68526456e-07, 1.81699888e-05, 3.24067114e-05, 9.08541460e-06,\n",
       "        1.28372392e-06, 3.04317946e-05, 7.93883464e-06, 1.79908636e-06,\n",
       "        2.68908423e-07, 8.29626333e-06, 1.06551443e-05, 6.86700660e-05,\n",
       "        1.66186492e-05, 4.66224301e-05, 7.43024339e-06, 2.64124697e-06,\n",
       "        3.89229854e-06, 1.76941126e-06, 3.61070925e-05, 3.55200746e-06,\n",
       "        1.56736780e-06, 2.23936217e-06, 5.18692832e-06, 9.13675467e-05,\n",
       "        1.64407777e-06, 1.30533431e-06, 1.81126361e-05, 2.11191457e-03,\n",
       "        4.98898447e-01, 3.07494197e-02, 7.56452209e-05, 3.71068127e-05,\n",
       "        5.93154391e-06, 9.93410231e-06, 9.03483851e-07, 3.03397286e-07,\n",
       "        5.73891273e-04, 5.03938936e-05, 7.38807421e-06, 4.62238631e-06,\n",
       "        7.38740482e-06, 4.99610451e-06, 5.24099323e-06, 3.44309797e-06,\n",
       "        9.70882411e-07, 4.72852757e-04, 6.88931914e-06, 2.28537847e-05,\n",
       "        1.48305287e-06, 3.34777155e-07, 2.42642618e-05, 7.49756646e-06,\n",
       "        2.23085663e-05, 5.91283833e-06, 6.90636662e-05, 2.68449239e-05,\n",
       "        2.60790621e-05, 5.85274756e-06, 7.51429525e-06, 9.38311950e-06,\n",
       "        1.66980578e-06, 1.54880308e-06, 1.56827844e-06, 4.30723549e-06,\n",
       "        1.18200057e-06, 2.02573174e-05, 1.60159016e-05, 4.34826825e-06,\n",
       "        3.44348700e-05, 4.68210828e-06, 4.70398527e-06, 1.53575783e-07,\n",
       "        1.58540183e-06, 1.05932986e-05, 1.51520828e-02, 8.77724611e-04,\n",
       "        3.14695808e-06, 2.40910208e-06, 3.24456892e-06, 3.33331144e-07,\n",
       "        7.57598309e-06, 4.65134644e-06, 9.16935824e-05, 4.67314158e-06,\n",
       "        1.88746380e-05, 9.77158561e-06, 5.68799214e-06, 1.29452907e-04,\n",
       "        5.99857060e-07, 1.45079821e-06, 2.70867367e-05, 1.14404083e-05,\n",
       "        1.06509412e-06, 9.80046480e-07, 1.62563283e-05, 1.58214934e-05,\n",
       "        1.84760545e-04, 2.94599295e-06, 9.02170359e-06, 2.58899286e-06,\n",
       "        6.43218925e-07, 4.88667547e-06, 1.34199411e-06, 2.21150890e-06,\n",
       "        1.52903738e-06, 4.01005281e-07, 2.40866780e-06, 4.07494508e-06,\n",
       "        7.55544461e-05, 4.52492211e-04, 5.72764350e-07, 2.50747999e-05,\n",
       "        5.12367078e-05, 2.26286465e-05, 7.31862792e-06, 9.18165551e-06,\n",
       "        1.71209031e-05, 1.66313494e-05, 3.14021554e-06, 3.77248909e-07,\n",
       "        9.03722048e-06, 5.66660037e-06, 3.03130787e-06, 5.84408599e-06,\n",
       "        4.02126287e-04, 6.13595205e-07, 8.55725204e-07, 3.96326271e-07,\n",
       "        1.84755612e-04, 2.69636454e-04, 4.05287210e-05, 3.65091842e-06,\n",
       "        1.00751413e-06, 1.59891044e-07, 3.24525136e-05, 2.34269810e-05,\n",
       "        3.73405072e-07, 1.18197513e-05, 3.11720805e-06, 6.36514687e-06,\n",
       "        2.17455927e-05, 4.44446487e-05, 9.84644503e-05, 1.23808699e-04,\n",
       "        1.43390744e-05, 1.32604453e-06, 9.24240230e-05, 7.04744016e-05,\n",
       "        5.48417029e-06, 7.19308332e-07, 1.07894954e-03, 5.47261550e-07,\n",
       "        2.77490176e-06, 3.86753003e-03, 1.20352615e-06, 7.38757139e-04,\n",
       "        6.84290353e-05, 3.58769350e-04, 8.98277449e-07, 2.69033590e-05,\n",
       "        6.05014839e-06, 6.12173426e-06, 5.97642975e-06, 5.17535284e-07,\n",
       "        6.06213575e-07, 7.19684704e-06, 1.84902240e-06, 6.59725119e-05,\n",
       "        1.11091103e-04, 3.76557722e-07, 6.86955173e-06, 3.01708095e-03,\n",
       "        2.01264320e-05, 3.21340235e-06, 1.35030277e-04, 2.14294178e-05,\n",
       "        1.21608241e-06, 7.69056263e-04, 1.08176471e-06, 1.10407109e-06,\n",
       "        2.69751922e-07, 8.06449953e-06, 8.77683578e-06, 2.68588574e-05,\n",
       "        7.08814582e-07, 2.09866630e-06, 9.86294435e-06, 1.74440788e-06,\n",
       "        2.51061601e-06, 6.08020059e-07, 1.22509096e-04, 8.18052740e-06,\n",
       "        1.15853720e-06, 3.02566292e-07, 1.40895531e-06, 1.85712520e-06,\n",
       "        4.11391596e-07, 5.89475676e-05, 8.07406177e-05, 7.52956339e-07,\n",
       "        1.36923218e-05, 3.54212461e-05, 5.26356052e-05, 2.34046274e-05,\n",
       "        1.14215154e-03, 5.05431926e-05, 5.30618672e-06, 4.64569675e-05,\n",
       "        2.35464777e-05, 1.31922445e-06, 5.00554510e-04, 8.33387458e-06,\n",
       "        1.68430392e-06, 9.30977478e-07, 5.49649258e-07, 7.85846896e-06,\n",
       "        4.92602849e-05, 3.75667440e-07, 2.35078161e-07, 4.68793260e-05,\n",
       "        2.08999816e-04, 1.53704627e-06, 5.77526407e-07, 1.55484522e-05,\n",
       "        4.35927976e-03, 1.24940391e-06, 1.10279882e-06, 3.90626610e-06,\n",
       "        3.28931424e-06, 7.08930202e-07, 1.32754019e-06, 2.20923653e-06,\n",
       "        2.98547475e-05, 1.06494144e-05, 3.50744493e-04, 5.81224274e-04,\n",
       "        2.38503048e-06, 1.37353311e-06, 4.24528735e-05, 1.11747227e-06,\n",
       "        1.78327878e-06, 1.33296226e-06, 8.58824592e-07, 8.98312719e-05,\n",
       "        2.76035949e-04, 4.72814645e-06, 2.40216068e-05, 3.49226275e-06,\n",
       "        7.40403948e-07, 2.11186986e-02, 1.72399450e-06, 1.99942815e-06,\n",
       "        6.94550545e-06, 1.31858851e-05, 1.04819947e-06, 4.04199855e-05,\n",
       "        2.98299583e-05, 8.61125500e-06, 1.60963239e-07, 2.50930452e-06,\n",
       "        2.25504755e-06, 8.08244367e-05, 3.55496304e-04, 2.52906557e-05,\n",
       "        1.09405055e-05, 3.01687777e-07, 4.58555724e-06, 2.50115977e-06,\n",
       "        1.37801435e-05, 1.82577787e-05, 2.90560602e-05, 8.86381986e-06,\n",
       "        1.43790476e-05, 4.48663413e-05, 3.76027316e-07, 2.65735639e-06,\n",
       "        1.26182601e-06, 3.20839877e-06, 2.22628478e-05, 3.09788834e-06,\n",
       "        2.73957849e-05, 1.53823260e-06, 1.62795386e-05, 7.11073881e-05,\n",
       "        1.77937236e-05, 3.14191893e-05, 5.43285605e-05, 1.43679581e-05,\n",
       "        3.90068953e-06, 2.56214462e-05, 7.56167628e-06, 4.71891864e-04,\n",
       "        2.49837035e-06, 3.57242279e-05, 1.84156261e-06, 8.67597635e-07,\n",
       "        8.41023983e-04, 3.97223141e-03, 6.78221249e-06, 1.15313605e-06,\n",
       "        3.94874587e-05, 8.99683801e-06, 2.62546928e-05, 4.31895614e-07,\n",
       "        1.86386933e-06, 2.12937493e-06, 1.40083478e-06, 7.33095021e-06,\n",
       "        6.64477848e-05, 1.43611223e-05, 4.37482922e-05, 1.03843479e-06,\n",
       "        1.97467966e-06, 7.13067357e-06, 5.79057769e-06, 5.32294280e-06,\n",
       "        3.11336225e-05, 5.90717946e-06, 5.37766355e-05, 3.09258098e-06,\n",
       "        1.36017388e-05, 4.69471047e-07, 5.19086279e-06, 1.51244330e-06,\n",
       "        1.03769423e-06, 1.39947333e-05, 6.65902633e-07, 3.81644497e-07,\n",
       "        1.86514878e-03, 8.36174195e-07, 3.49384527e-06, 4.04694856e-06,\n",
       "        2.69347424e-06, 3.84098938e-04, 1.73567764e-06, 4.81470342e-05,\n",
       "        3.35918267e-05, 1.49523781e-04, 4.52352594e-07, 5.61258787e-07,\n",
       "        2.53959606e-05, 8.05762227e-07, 4.74887747e-05, 4.26540555e-06,\n",
       "        2.48749927e-07, 2.34647899e-07, 2.36777919e-06, 2.09067191e-04,\n",
       "        1.01717096e-05, 9.10849678e-07, 2.06832719e-05, 1.09033041e-04,\n",
       "        5.25643758e-04, 1.15113630e-06, 1.47759226e-06, 1.47387823e-06,\n",
       "        4.41317127e-07, 1.66735049e-06, 4.77976664e-06, 4.55352301e-06,\n",
       "        4.56939051e-05, 6.43095627e-05, 4.17890842e-04, 3.71479746e-06,\n",
       "        1.24777889e-05, 2.40711074e-06, 2.56770863e-06, 3.97262693e-06,\n",
       "        4.07509906e-05, 7.40185060e-05, 3.34600394e-04, 6.55531323e-07,\n",
       "        9.81000812e-06, 3.60564422e-03, 4.04705170e-05, 3.67457687e-06,\n",
       "        1.90877308e-05, 1.87269848e-07, 2.76461583e-06, 1.26578845e-03,\n",
       "        9.52085657e-07, 1.40521547e-06, 5.69510803e-06, 2.13590363e-04,\n",
       "        1.38426813e-05, 3.34051656e-05, 5.46707088e-05, 1.54370241e-06,\n",
       "        1.30515139e-06, 1.71361523e-06, 5.03423325e-06, 7.56028101e-07,\n",
       "        3.23218206e-04, 1.02609692e-06, 1.56903770e-05, 1.03698790e-06,\n",
       "        2.08293950e-05, 4.41834845e-06, 1.35178240e-07, 2.33071132e-05,\n",
       "        2.00967406e-05, 2.11194692e-05, 3.37613187e-06, 1.14214399e-05,\n",
       "        1.33104027e-06, 1.05767060e-06, 2.75852271e-05, 1.36614160e-03,\n",
       "        3.69974691e-06, 1.18439380e-06, 8.87694932e-06, 3.40073302e-06,\n",
       "        6.94280743e-07, 3.15775869e-05, 7.20206174e-07, 1.05599829e-05,\n",
       "        1.55952894e-05, 2.38789689e-05, 3.71268675e-06, 1.03865671e-06,\n",
       "        2.23136376e-04, 1.21911953e-05, 8.13052524e-04, 1.00969970e-02,\n",
       "        7.85754673e-06, 9.30010248e-03, 2.14307147e-04, 1.67429862e-05,\n",
       "        1.28198053e-06, 2.94412530e-06, 9.58800229e-07, 3.05598485e-04,\n",
       "        9.36970139e-07, 2.19467256e-05, 3.12113349e-04, 5.83865449e-06,\n",
       "        4.89249260e-07, 5.47562763e-07, 5.07692675e-06, 1.74034847e-06,\n",
       "        1.60324053e-05, 1.83823761e-06, 2.32093065e-04, 6.76564241e-06,\n",
       "        7.77748483e-06, 1.76362846e-05, 3.29833456e-05, 1.54461406e-04,\n",
       "        6.17765454e-06, 4.28449392e-04, 4.32449560e-05, 6.66091946e-05,\n",
       "        1.47556304e-04, 1.39844124e-04, 9.19088870e-06, 3.80276120e-04,\n",
       "        4.27730440e-04, 9.86196574e-06, 9.69153480e-05, 1.08393297e-05,\n",
       "        3.09330653e-06, 3.54858275e-05, 1.20527493e-05, 2.87405760e-06,\n",
       "        3.12821771e-06, 3.09769348e-06, 3.54510194e-05, 5.03888759e-06,\n",
       "        2.24332507e-06, 9.38723679e-06, 6.35749473e-07, 3.56371356e-06,\n",
       "        3.91474132e-05, 3.02333810e-05, 3.32941963e-05, 1.54362078e-05,\n",
       "        6.98250415e-06, 6.82033851e-06, 2.51402889e-05, 5.11687404e-07,\n",
       "        2.08786832e-06, 6.79512868e-06, 2.96415055e-06, 2.66351526e-05,\n",
       "        2.16340716e-03, 1.60783566e-05, 1.44828709e-05, 2.24072937e-06,\n",
       "        7.28565374e-06, 1.57747581e-05, 1.01863337e-03, 6.06736206e-02,\n",
       "        2.84442991e-01, 2.63803918e-03, 8.77207810e-07, 4.28474923e-05,\n",
       "        7.17008504e-07, 1.69843383e-06, 7.58655278e-06, 1.88386275e-06,\n",
       "        6.56110501e-07, 3.30757484e-06, 1.38045243e-06, 3.59357784e-07,\n",
       "        1.46491686e-06, 1.71107422e-06, 2.45645560e-06, 1.71333249e-06,\n",
       "        9.42140218e-07, 2.41735506e-06, 2.94586499e-07, 6.67353061e-06,\n",
       "        3.24434477e-05, 4.29987631e-06, 9.80818459e-06, 3.74834531e-06,\n",
       "        6.21263439e-07, 3.66656963e-07, 9.04363515e-06, 2.84340331e-06,\n",
       "        8.38987944e-06, 1.11631982e-06, 2.61338755e-06, 6.95544179e-04]],\n",
       "      dtype=float32)"
      ]
     },
     "execution_count": 8,
     "metadata": {},
     "output_type": "execute_result"
    }
   ],
   "source": [
    "# predict the probability across all output classes\n",
    "yhat = model.predict(image)\n",
    "yhat"
   ]
  },
  {
   "cell_type": "code",
   "execution_count": 9,
   "id": "e582e8e8",
   "metadata": {},
   "outputs": [
    {
     "name": "stdout",
     "output_type": "stream",
     "text": [
      "Downloading data from https://storage.googleapis.com/download.tensorflow.org/data/imagenet_class_index.json\n",
      "\u001b[1m35363/35363\u001b[0m \u001b[32m━━━━━━━━━━━━━━━━━━━━\u001b[0m\u001b[37m\u001b[0m \u001b[1m0s\u001b[0m 6us/step\n",
      "coffee_mug (49.89%)\n"
     ]
    }
   ],
   "source": [
    "from keras.applications.vgg16 import decode_predictions\n",
    "# convert the probabilities to class labels\n",
    "label = decode_predictions(yhat)\n",
    "# retrieve the most likely result, e.g. highest probability\n",
    "label = label[0][0]\n",
    "# print the classification\n",
    "print('%s (%.2f%%)' % (label[1], label[2]*100))"
   ]
  },
  {
   "cell_type": "markdown",
   "id": "7fef084e",
   "metadata": {},
   "source": [
    "### Evaluating Model predicted "
   ]
  }
 ],
 "metadata": {
  "kernelspec": {
   "display_name": "Python 3 (ipykernel)",
   "language": "python",
   "name": "python3"
  },
  "language_info": {
   "codemirror_mode": {
    "name": "ipython",
    "version": 3
   },
   "file_extension": ".py",
   "mimetype": "text/x-python",
   "name": "python",
   "nbconvert_exporter": "python",
   "pygments_lexer": "ipython3",
   "version": "3.11.4"
  }
 },
 "nbformat": 4,
 "nbformat_minor": 5
}
