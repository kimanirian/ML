{
 "cells": [
  {
   "cell_type": "markdown",
   "id": "e44ea880",
   "metadata": {},
   "source": [
    "# Object oriented programing (OOP)"
   ]
  },
  {
   "cell_type": "code",
   "execution_count": 12,
   "id": "eade703c",
   "metadata": {},
   "outputs": [
    {
     "name": "stdout",
     "output_type": "stream",
     "text": [
      "Blu is a Bird\n",
      "Woo is a Bird\n",
      "Blu is 10 years old\n",
      "woo is 15 years old\n"
     ]
    }
   ],
   "source": [
    "#creating a class and objects of parrots having all the info on parrots\n",
    "class Parrot:\n",
    "    species=\"Bird\"\n",
    "    def __init__(self,name,age):\n",
    "        self.name=name\n",
    "        self.age=age\n",
    "blu = Parrot(\"Blu\", 10)\n",
    "woo = Parrot(\"woo\", 15)\n",
    "print(\"Blu is a {}\".format(blu.__class__.species))\n",
    "print(\"Woo is a {}\".format(woo.__class__.species))\n",
    "print(\"{} is {} years old\".format(blu.name,blu.age))\n",
    "print(\"{} is {} years old\".format(woo.name,woo.age))\n",
    "\n"
   ]
  },
  {
   "cell_type": "code",
   "execution_count": 1,
   "id": "2ee2533f",
   "metadata": {},
   "outputs": [
    {
     "name": "stdout",
     "output_type": "stream",
     "text": [
      "Number0\n",
      "Number1\n",
      "Number2\n",
      "Number3\n",
      "Number4\n",
      "Number5\n"
     ]
    }
   ],
   "source": [
    "no=range(1,10)\n",
    "for i in range(6):\n",
    "    print(f'Number{i}')"
   ]
  },
  {
   "cell_type": "code",
   "execution_count": 14,
   "id": "655d0d7d",
   "metadata": {},
   "outputs": [
    {
     "name": "stdout",
     "output_type": "stream",
     "text": [
      "Blu sings 'Happy' \n",
      "Blu is now dancing\n"
     ]
    }
   ],
   "source": [
    "#methods\n",
    "class Parrot:\n",
    "    def __init__(self,name,age):\n",
    "        self.name =name\n",
    "        self.age=age\n",
    "    #instantiate method\n",
    "    def sing(self,song):\n",
    "        return \"{} sings {} \".format(self.name,song)\n",
    "    def dance(self):\n",
    "        return \"{} is now dancing\".format(self.name)\n",
    "blu=Parrot(\"Blu\",10)\n",
    "\n",
    "#call instantiate methods\n",
    "print(blu.sing(\"'Happy'\"))\n",
    "print(blu.dance())"
   ]
  },
  {
   "cell_type": "code",
   "execution_count": 17,
   "id": "1f736467",
   "metadata": {},
   "outputs": [
    {
     "name": "stdout",
     "output_type": "stream",
     "text": [
      "Bird is ready\n",
      "Penguin is ready\n",
      "Penguin\n",
      "Swim faster\n",
      "Run faster\n"
     ]
    }
   ],
   "source": [
    "#inheritance\n",
    "class bird:\n",
    "    def __init__(self):\n",
    "        print(\"Bird is ready\")\n",
    "    def whoisThis(self):\n",
    "        print(\"Bird\")\n",
    "    def swim(self):\n",
    "        print(\"Swim faster\")\n",
    "        \n",
    "#child class\n",
    "class Penguin(bird):\n",
    "    def __init__(self):\n",
    "        super().__init__()\n",
    "        print(\"Penguin is ready\")\n",
    "    def whoisThis(self):\n",
    "        print(\"Penguin\")\n",
    "    def run(self):\n",
    "        print(\"Run faster\")\n",
    "peggy=Penguin()\n",
    "peggy.whoisThis()\n",
    "peggy.swim()\n",
    "peggy.run()"
   ]
  },
  {
   "cell_type": "code",
   "execution_count": 22,
   "id": "a77684d2",
   "metadata": {},
   "outputs": [
    {
     "name": "stdout",
     "output_type": "stream",
     "text": [
      "Selling price:900\n",
      "Selling price:900\n",
      "Selling price:1000\n"
     ]
    }
   ],
   "source": [
    "#encapsulation\n",
    "class computer:\n",
    "    def __init__(self):\n",
    "        self.__maxprice=900\n",
    "    def sell(self):\n",
    "        print(\"Selling price:{}\".format(self.__maxprice))\n",
    "    def setMaxprice(self,price):\n",
    "        self.__maxprice=price\n",
    "c=computer()\n",
    "c.sell()\n",
    "c.__maxprice=1000\n",
    "c.sell()\n",
    "c.setMaxprice(1000)\n",
    "c.sell()"
   ]
  },
  {
   "cell_type": "code",
   "execution_count": 23,
   "id": "c4c262e2",
   "metadata": {},
   "outputs": [
    {
     "name": "stdout",
     "output_type": "stream",
     "text": [
      "Parrot can fly\n",
      "Penguin can't  fly\n"
     ]
    }
   ],
   "source": [
    "#polymorphism\n",
    "class parrot:\n",
    "    def fly(self):\n",
    "        print(\"Parrot can fly\")\n",
    "    def swim(self):\n",
    "        print(\"Parrot can't swim\")\n",
    "class penguin:\n",
    "    def fly(self):\n",
    "        print(\"Penguin can't  fly\")\n",
    "    def swim(self):\n",
    "        print(\"Penguin can swim\")\n",
    "def flying_test(bird):\n",
    "    bird.fly()\n",
    "blu=parrot()\n",
    "peggy=penguin()\n",
    "flying_test(blu)\n",
    "flying_test(peggy)\n",
    "        "
   ]
  },
  {
   "cell_type": "code",
   "execution_count": 3,
   "id": "4b0dd412",
   "metadata": {},
   "outputs": [],
   "source": [
    "import statsmodels"
   ]
  },
  {
   "cell_type": "code",
   "execution_count": 2,
   "id": "bca3aa1c",
   "metadata": {},
   "outputs": [
    {
     "ename": "SyntaxError",
     "evalue": "invalid syntax (472633062.py, line 1)",
     "output_type": "error",
     "traceback": [
      "\u001b[1;36m  Cell \u001b[1;32mIn[2], line 1\u001b[1;36m\u001b[0m\n\u001b[1;33m    import profiling report\u001b[0m\n\u001b[1;37m                     ^\u001b[0m\n\u001b[1;31mSyntaxError\u001b[0m\u001b[1;31m:\u001b[0m invalid syntax\n"
     ]
    }
   ],
   "source": [
    "import profiling report"
   ]
  },
  {
   "cell_type": "code",
   "execution_count": 5,
   "id": "588a3b69",
   "metadata": {},
   "outputs": [],
   "source": [
    "import keras\n",
    "from keras.models import Sequential"
   ]
  },
  {
   "cell_type": "code",
   "execution_count": 6,
   "id": "1f87b86b",
   "metadata": {},
   "outputs": [],
   "source": [
    "from keras.datasets import mnist"
   ]
  },
  {
   "cell_type": "code",
   "execution_count": 10,
   "id": "18e31745",
   "metadata": {},
   "outputs": [],
   "source": [
    "(x_train,y_train),(x_test,y_test)=mnist.load_data()"
   ]
  },
  {
   "cell_type": "code",
   "execution_count": 1,
   "id": "6a444c58",
   "metadata": {},
   "outputs": [
    {
     "ename": "NameError",
     "evalue": "name 'x_train' is not defined",
     "output_type": "error",
     "traceback": [
      "\u001b[1;31m---------------------------------------------------------------------------\u001b[0m",
      "\u001b[1;31mNameError\u001b[0m                                 Traceback (most recent call last)",
      "Cell \u001b[1;32mIn[1], line 3\u001b[0m\n\u001b[0;32m      1\u001b[0m \u001b[38;5;28;01mimport\u001b[39;00m \u001b[38;5;21;01mmatplotlib\u001b[39;00m\u001b[38;5;21;01m.\u001b[39;00m\u001b[38;5;21;01mpyplot\u001b[39;00m \u001b[38;5;28;01mas\u001b[39;00m \u001b[38;5;21;01mplt\u001b[39;00m\n\u001b[0;32m      2\u001b[0m get_ipython()\u001b[38;5;241m.\u001b[39mrun_line_magic(\u001b[38;5;124m'\u001b[39m\u001b[38;5;124mmatplotlib\u001b[39m\u001b[38;5;124m'\u001b[39m, \u001b[38;5;124m'\u001b[39m\u001b[38;5;124minline\u001b[39m\u001b[38;5;124m'\u001b[39m)\n\u001b[1;32m----> 3\u001b[0m plt\u001b[38;5;241m.\u001b[39mimshow(\u001b[43mx_train\u001b[49m[\u001b[38;5;241m5\u001b[39m],cmap\u001b[38;5;241m=\u001b[39m\u001b[38;5;124m'\u001b[39m\u001b[38;5;124mgray\u001b[39m\u001b[38;5;124m'\u001b[39m)\n\u001b[0;32m      4\u001b[0m plt\u001b[38;5;241m.\u001b[39mshow()\n",
      "\u001b[1;31mNameError\u001b[0m: name 'x_train' is not defined"
     ]
    }
   ],
   "source": [
    "import matplotlib.pyplot as plt\n",
    "%matplotlib inline\n",
    "plt.imshow(x_train[5],cmap='gray')\n",
    "plt.show()"
   ]
  },
  {
   "cell_type": "code",
   "execution_count": null,
   "id": "370fda16",
   "metadata": {},
   "outputs": [],
   "source": [
    "-------------------------------\n",
    "NameError                                 Traceback (most recent call last)\n",
    "Cell In[1], line 3 "
   ]
  },
  {
   "cell_type": "code",
   "execution_count": 16,
   "id": "7baff8c2",
   "metadata": {},
   "outputs": [
    {
     "data": {
      "text/plain": [
       "(60000, 28, 28)"
      ]
     },
     "execution_count": 16,
     "metadata": {},
     "output_type": "execute_result"
    }
   ],
   "source": [
    "x_train.shape"
   ]
  },
  {
   "cell_type": "markdown",
   "id": "47227429",
   "metadata": {},
   "source": [
    "## Basics to class initialization"
   ]
  },
  {
   "cell_type": "code",
   "execution_count": 1,
   "id": "4091d09e",
   "metadata": {},
   "outputs": [
    {
     "name": "stdout",
     "output_type": "stream",
     "text": [
      "5 4\n",
      "8 3\n"
     ]
    }
   ],
   "source": [
    "#adding atttributes to a class that has no data\n",
    "class point:\n",
    "    pass \n",
    "p1=point()\n",
    "p2=point()\n",
    "\n",
    "p1.x=5\n",
    "p1.y=4\n",
    "\n",
    "p2.x=8\n",
    "p2.y=3\n",
    "\n",
    "print(p1.x,p1.y)\n",
    "print(p2.x,p2.y)"
   ]
  },
  {
   "cell_type": "code",
   "execution_count": 3,
   "id": "eed51493",
   "metadata": {},
   "outputs": [
    {
     "name": "stdout",
     "output_type": "stream",
     "text": [
      "0 0\n"
     ]
    }
   ],
   "source": [
    "#making yur class do something\n",
    "class point:\n",
    "    def reset(self):\n",
    "        self.x=0\n",
    "        self.y=0\n",
    "        '''when calling our reset method we dont have to care of the self argument sinc its taken care of automatically'''\n",
    "#acquring the values of our class instance\n",
    "p=point()\n",
    "p.reset()\n",
    "print(p.x,p.y)"
   ]
  },
  {
   "cell_type": "code",
   "execution_count": 4,
   "id": "4a677f69",
   "metadata": {},
   "outputs": [
    {
     "name": "stdout",
     "output_type": "stream",
     "text": [
      "5.0\n"
     ]
    }
   ],
   "source": [
    "#having more arguments in the method instance\n",
    "import math\n",
    "class point:\n",
    "    def move(self,x,y):\n",
    "        self.x=x\n",
    "        self.y=y\n",
    "        \n",
    "    def reset(self):\n",
    "        self.move(0,0)\n",
    "    def calc_dist(self,other_point):\n",
    "        return math.sqrt((self.x-other_point.x)**2 + (self.y-other_point.y)**2)\n",
    "    \n",
    "#using our class instance\n",
    "point1=point()\n",
    "point2=point()\n",
    "\n",
    "point1.reset()\n",
    "point2.move(5,0)\n",
    "\n",
    "#calling the calc_dist method on point2  \n",
    "print(point2.calc_dist(point1))\n",
    "        "
   ]
  },
  {
   "cell_type": "code",
   "execution_count": 5,
   "id": "3ec49fe2",
   "metadata": {},
   "outputs": [
    {
     "name": "stdout",
     "output_type": "stream",
     "text": [
      "4.47213595499958\n"
     ]
    }
   ],
   "source": [
    "point1.move(3,4)\n",
    "#calling the calc_dist method on point1\n",
    "print(point1.calc_dist(point2))"
   ]
  },
  {
   "cell_type": "code",
   "execution_count": 6,
   "id": "123af02f",
   "metadata": {},
   "outputs": [
    {
     "name": "stdout",
     "output_type": "stream",
     "text": [
      "0.0\n"
     ]
    }
   ],
   "source": [
    "#point1 is used as initialized earlier\n",
    "print(point1.calc_dist(point1))"
   ]
  },
  {
   "cell_type": "code",
   "execution_count": 4,
   "id": "4db0537a",
   "metadata": {},
   "outputs": [
    {
     "name": "stdout",
     "output_type": "stream",
     "text": [
      "2023-07-02 22:28:43.668201\n",
      "datetime.datetime(2023, 7, 2, 22, 28, 43, 668201)\n",
      "<class 'datetime.datetime'>\n"
     ]
    }
   ],
   "source": [
    "import datetime\n",
    "date_1=datetime.datetime.now()\n",
    "print(date_1)\n",
    "print(date_1.__repr__())\n",
    "print(type(date_1))"
   ]
  },
  {
   "cell_type": "code",
   "execution_count": 5,
   "id": "5fe67ce8",
   "metadata": {},
   "outputs": [
    {
     "name": "stdout",
     "output_type": "stream",
     "text": [
      "datetime.date(2023, 7, 2)\n",
      "<class 'datetime.date'>\n"
     ]
    }
   ],
   "source": [
    "date_2=datetime.date.today()\n",
    "print(date_2.__repr__())\n",
    "print(type(date_2))\n"
   ]
  },
  {
   "cell_type": "code",
   "execution_count": 6,
   "id": "b1af8a0b",
   "metadata": {},
   "outputs": [
    {
     "name": "stdout",
     "output_type": "stream",
     "text": [
      "2023-07-02 22:28:43.668201\n"
     ]
    }
   ],
   "source": [
    "#converting the dates to a time stamp using pandas\n",
    "import pandas as pd\n",
    "print(pd.Timestamp(date_1)) # interprets datetime to integer so that calc can be able to be carried out on them\n"
   ]
  },
  {
   "cell_type": "code",
   "execution_count": 7,
   "id": "87a988d7",
   "metadata": {},
   "outputs": [
    {
     "data": {
      "text/plain": [
       "Timestamp('1963-06-07 15:16:00')"
      ]
     },
     "execution_count": 7,
     "metadata": {},
     "output_type": "execute_result"
    }
   ],
   "source": [
    "# creating a time stamp from scratch\n",
    "date_3=pd.Timestamp(1963,6,7,15,16,0)\n",
    "date_3"
   ]
  },
  {
   "cell_type": "code",
   "execution_count": 8,
   "id": "a68e270a",
   "metadata": {},
   "outputs": [
    {
     "name": "stdout",
     "output_type": "stream",
     "text": [
      "2023-07-02 22:28:43.668201\n",
      "2023-07-02 22:28:43.668201\n",
      "2023-07-02 00:00:00\n"
     ]
    }
   ],
   "source": [
    "#Norma;izing in timestamps-removing all the time info and remaining with the dates only\n",
    "print(date_1)\n",
    "date_1=pd.Timestamp(date_1)\n",
    "print(date_1)\n",
    "print(date_1.normalize())  #sets the time metadata to zero\n"
   ]
  },
  {
   "cell_type": "code",
   "execution_count": 9,
   "id": "355ba83a",
   "metadata": {},
   "outputs": [
    {
     "name": "stdout",
     "output_type": "stream",
     "text": [
      "2023-07-02 00:00:00\n",
      "2024-07-01 00:00:00\n"
     ]
    }
   ],
   "source": [
    "#horizon\n",
    "TODAY=pd.Timestamp('today').normalize()\n",
    "print(TODAY)\n",
    "END=TODAY+datetime.timedelta(days=365)\n",
    "print(END)"
   ]
  },
  {
   "cell_type": "code",
   "execution_count": 10,
   "id": "60091eee",
   "metadata": {},
   "outputs": [
    {
     "name": "stdout",
     "output_type": "stream",
     "text": [
      "Empty DataFrame\n",
      "Columns: []\n",
      "Index: [2023-07-02 00:00:00, 2023-07-03 00:00:00, 2023-07-04 00:00:00, 2023-07-05 00:00:00, 2023-07-06 00:00:00]\n"
     ]
    }
   ],
   "source": [
    "#creating a calender\n",
    "calender=pd.DataFrame(index=pd.date_range(start=TODAY,end=END))\n",
    "print(calender.head())"
   ]
  },
  {
   "cell_type": "code",
   "execution_count": 11,
   "id": "996bba78",
   "metadata": {},
   "outputs": [
    {
     "name": "stdout",
     "output_type": "stream",
     "text": [
      "Semi month end:\n",
      "DatetimeIndex(['2023-07-15', '2023-07-31', '2023-08-15', '2023-08-31',\n",
      "               '2023-09-15', '2023-09-30', '2023-10-15', '2023-10-31',\n",
      "               '2023-11-15', '2023-11-30', '2023-12-15', '2023-12-31',\n",
      "               '2024-01-15', '2024-01-31', '2024-02-15', '2024-02-29',\n",
      "               '2024-03-15', '2024-03-31', '2024-04-15', '2024-04-30',\n",
      "               '2024-05-15', '2024-05-31', '2024-06-15', '2024-06-30'],\n",
      "              dtype='datetime64[ns]', freq='SM-15')\n",
      "\n",
      "\n",
      "Month start:\n",
      "DatetimeIndex(['2023-08-01', '2023-09-01', '2023-10-01', '2023-11-01',\n",
      "               '2023-12-01', '2024-01-01', '2024-02-01', '2024-03-01',\n",
      "               '2024-04-01', '2024-05-01', '2024-06-01', '2024-07-01'],\n",
      "              dtype='datetime64[ns]', freq='MS')\n"
     ]
    }
   ],
   "source": [
    "#the pd.date_range function is flexible as it accepts diff  date increements by adding the offset aliases to freq arg\n",
    "#flows\n",
    "print('Semi month end:')\n",
    "sm=pd.date_range(start=TODAY,end=END,freq='SM')\n",
    "print(sm)\n",
    "print(\"\\n\")\n",
    "#month start frequency\n",
    "print(\"Month start:\")\n",
    "ms=pd.date_range(start=TODAY,end=END,freq='MS')\n",
    "print(ms)\n",
    "\n"
   ]
  },
  {
   "cell_type": "code",
   "execution_count": 12,
   "id": "ca6a0aa1",
   "metadata": {},
   "outputs": [
    {
     "name": "stdout",
     "output_type": "stream",
     "text": [
      "            Income\n",
      "2023-07-15    1000\n",
      "2023-07-31    1000\n",
      "2023-08-15    1000\n",
      "2023-08-31    1000\n",
      "2023-09-15    1000\n"
     ]
    }
   ],
   "source": [
    "#to map bimonthly earnings of kss.1000 onto our calendar object\n",
    "#creating a new datframe with an inddex that spans the entire year and has freq='SM'\n",
    "income=pd.DataFrame(data={'Income':1000},\n",
    "                   index=pd.date_range(start=TODAY,end=END,freq='SM'))\n",
    "print(income.head())"
   ]
  },
  {
   "cell_type": "code",
   "execution_count": 13,
   "id": "0c574450",
   "metadata": {},
   "outputs": [
    {
     "name": "stdout",
     "output_type": "stream",
     "text": [
      "            Rent\n",
      "2023-07-15 -1500\n",
      "2023-07-31 -1500\n",
      "2023-08-15 -1500\n",
      "2023-08-31 -1500\n",
      "2023-09-15 -1500\n"
     ]
    }
   ],
   "source": [
    "#doing the same for rent of 1500\n",
    "rent=pd.DataFrame(data={'Rent':-1500},\n",
    "                   index=pd.date_range(start=TODAY,end=END,freq='SM'))\n",
    "print(rent.head())"
   ]
  },
  {
   "cell_type": "code",
   "execution_count": 14,
   "id": "359ed86d",
   "metadata": {},
   "outputs": [
    {
     "data": {
      "text/html": [
       "<div>\n",
       "<style scoped>\n",
       "    .dataframe tbody tr th:only-of-type {\n",
       "        vertical-align: middle;\n",
       "    }\n",
       "\n",
       "    .dataframe tbody tr th {\n",
       "        vertical-align: top;\n",
       "    }\n",
       "\n",
       "    .dataframe thead th {\n",
       "        text-align: right;\n",
       "    }\n",
       "</style>\n",
       "<table border=\"1\" class=\"dataframe\">\n",
       "  <thead>\n",
       "    <tr style=\"text-align: right;\">\n",
       "      <th></th>\n",
       "      <th>Income</th>\n",
       "      <th>Rent</th>\n",
       "    </tr>\n",
       "  </thead>\n",
       "  <tbody>\n",
       "    <tr>\n",
       "      <th>2023-07-02</th>\n",
       "      <td>0.0</td>\n",
       "      <td>0.0</td>\n",
       "    </tr>\n",
       "    <tr>\n",
       "      <th>2023-07-03</th>\n",
       "      <td>0.0</td>\n",
       "      <td>0.0</td>\n",
       "    </tr>\n",
       "    <tr>\n",
       "      <th>2023-07-04</th>\n",
       "      <td>0.0</td>\n",
       "      <td>0.0</td>\n",
       "    </tr>\n",
       "    <tr>\n",
       "      <th>2023-07-05</th>\n",
       "      <td>0.0</td>\n",
       "      <td>0.0</td>\n",
       "    </tr>\n",
       "    <tr>\n",
       "      <th>2023-07-06</th>\n",
       "      <td>0.0</td>\n",
       "      <td>0.0</td>\n",
       "    </tr>\n",
       "    <tr>\n",
       "      <th>2023-07-07</th>\n",
       "      <td>0.0</td>\n",
       "      <td>0.0</td>\n",
       "    </tr>\n",
       "    <tr>\n",
       "      <th>2023-07-08</th>\n",
       "      <td>0.0</td>\n",
       "      <td>0.0</td>\n",
       "    </tr>\n",
       "    <tr>\n",
       "      <th>2023-07-09</th>\n",
       "      <td>0.0</td>\n",
       "      <td>0.0</td>\n",
       "    </tr>\n",
       "    <tr>\n",
       "      <th>2023-07-10</th>\n",
       "      <td>0.0</td>\n",
       "      <td>0.0</td>\n",
       "    </tr>\n",
       "    <tr>\n",
       "      <th>2023-07-11</th>\n",
       "      <td>0.0</td>\n",
       "      <td>0.0</td>\n",
       "    </tr>\n",
       "  </tbody>\n",
       "</table>\n",
       "</div>"
      ],
      "text/plain": [
       "            Income  Rent\n",
       "2023-07-02     0.0   0.0\n",
       "2023-07-03     0.0   0.0\n",
       "2023-07-04     0.0   0.0\n",
       "2023-07-05     0.0   0.0\n",
       "2023-07-06     0.0   0.0\n",
       "2023-07-07     0.0   0.0\n",
       "2023-07-08     0.0   0.0\n",
       "2023-07-09     0.0   0.0\n",
       "2023-07-10     0.0   0.0\n",
       "2023-07-11     0.0   0.0"
      ]
     },
     "execution_count": 14,
     "metadata": {},
     "output_type": "execute_result"
    }
   ],
   "source": [
    "#stiching together the two cash flows(rent and income) into the calender object\n",
    "#this only works if the time stamp is normalised \n",
    "calender=pd.concat([calender,income],axis=1).fillna(0) #axis=1 ,appends into the column axis\n",
    "calender=pd.concat([calender,rent],axis=1).fillna(0)\n",
    "calender.head(10)\n",
    "\n"
   ]
  },
  {
   "cell_type": "code",
   "execution_count": 15,
   "id": "8fa19828",
   "metadata": {},
   "outputs": [
    {
     "data": {
      "text/html": [
       "<div>\n",
       "<style scoped>\n",
       "    .dataframe tbody tr th:only-of-type {\n",
       "        vertical-align: middle;\n",
       "    }\n",
       "\n",
       "    .dataframe tbody tr th {\n",
       "        vertical-align: top;\n",
       "    }\n",
       "\n",
       "    .dataframe thead th {\n",
       "        text-align: right;\n",
       "    }\n",
       "</style>\n",
       "<table border=\"1\" class=\"dataframe\">\n",
       "  <thead>\n",
       "    <tr style=\"text-align: right;\">\n",
       "      <th></th>\n",
       "      <th>Income</th>\n",
       "      <th>Rent</th>\n",
       "    </tr>\n",
       "  </thead>\n",
       "  <tbody>\n",
       "    <tr>\n",
       "      <th>2023-07-02</th>\n",
       "      <td>0.0</td>\n",
       "      <td>0.0</td>\n",
       "    </tr>\n",
       "    <tr>\n",
       "      <th>2023-07-03</th>\n",
       "      <td>0.0</td>\n",
       "      <td>0.0</td>\n",
       "    </tr>\n",
       "    <tr>\n",
       "      <th>2023-07-04</th>\n",
       "      <td>0.0</td>\n",
       "      <td>0.0</td>\n",
       "    </tr>\n",
       "    <tr>\n",
       "      <th>2023-07-05</th>\n",
       "      <td>0.0</td>\n",
       "      <td>0.0</td>\n",
       "    </tr>\n",
       "    <tr>\n",
       "      <th>2023-07-06</th>\n",
       "      <td>0.0</td>\n",
       "      <td>0.0</td>\n",
       "    </tr>\n",
       "  </tbody>\n",
       "</table>\n",
       "</div>"
      ],
      "text/plain": [
       "            Income  Rent\n",
       "2023-07-02     0.0   0.0\n",
       "2023-07-03     0.0   0.0\n",
       "2023-07-04     0.0   0.0\n",
       "2023-07-05     0.0   0.0\n",
       "2023-07-06     0.0   0.0"
      ]
     },
     "execution_count": 15,
     "metadata": {},
     "output_type": "execute_result"
    }
   ],
   "source": [
    "#to check if the concat func has worked\n",
    "calender.loc[(calender.index >= '2023-06-27') &\n",
    "            (calender.index <='2023-07-6')]"
   ]
  },
  {
   "cell_type": "code",
   "execution_count": 16,
   "id": "c6c4ec13",
   "metadata": {},
   "outputs": [
    {
     "data": {
      "text/html": [
       "<div>\n",
       "<style scoped>\n",
       "    .dataframe tbody tr th:only-of-type {\n",
       "        vertical-align: middle;\n",
       "    }\n",
       "\n",
       "    .dataframe tbody tr th {\n",
       "        vertical-align: top;\n",
       "    }\n",
       "\n",
       "    .dataframe thead th {\n",
       "        text-align: right;\n",
       "    }\n",
       "</style>\n",
       "<table border=\"1\" class=\"dataframe\">\n",
       "  <thead>\n",
       "    <tr style=\"text-align: right;\">\n",
       "      <th></th>\n",
       "      <th>Income</th>\n",
       "      <th>Rent</th>\n",
       "      <th>total</th>\n",
       "      <th>cum_total</th>\n",
       "    </tr>\n",
       "  </thead>\n",
       "  <tbody>\n",
       "    <tr>\n",
       "      <th>2024-07-01</th>\n",
       "      <td>0.0</td>\n",
       "      <td>0.0</td>\n",
       "      <td>0.0</td>\n",
       "      <td>-12000.0</td>\n",
       "    </tr>\n",
       "  </tbody>\n",
       "</table>\n",
       "</div>"
      ],
      "text/plain": [
       "            Income  Rent  total  cum_total\n",
       "2024-07-01     0.0   0.0    0.0   -12000.0"
      ]
     },
     "execution_count": 16,
     "metadata": {},
     "output_type": "execute_result"
    }
   ],
   "source": [
    "#finding totals\n",
    "calender['total']=calender.sum(axis=1)\n",
    "calender['cum_total']=calender['total'].cumsum()\n",
    "calender.tail(1)"
   ]
  },
  {
   "cell_type": "code",
   "execution_count": 17,
   "id": "b25e702b",
   "metadata": {},
   "outputs": [
    {
     "data": {
      "text/plain": [
       "<matplotlib.legend.Legend at 0x21d19841f60>"
      ]
     },
     "execution_count": 17,
     "metadata": {},
     "output_type": "execute_result"
    },
    {
     "data": {
      "image/png": "[encoded data removed]",
      "text/plain": [
       "<Figure size 1000x500 with 1 Axes>"
      ]
     },
     "metadata": {},
     "output_type": "display_data"
    }
   ],
   "source": [
    "#visualizing the early expenditure\n",
    "import matplotlib.pyplot as plt\n",
    "# %matplotlib inline\n",
    "\n",
    "plt.figure(figsize=(10,5))\n",
    "plt.plot(calender.index,calender.total,label='Daily Total')\n",
    "plt.plot(calender.index,calender.cum_total,label='cumulative total')\n",
    "\n",
    "plt.legend()"
   ]
  },
  {
   "cell_type": "code",
   "execution_count": 18,
   "id": "b2cb8b4d",
   "metadata": {},
   "outputs": [
    {
     "data": {
      "text/plain": [
       "'RRULE:INTERVAL=1;FREQ=WEEKLY;UNTIL=20230810'"
      ]
     },
     "execution_count": 18,
     "metadata": {},
     "output_type": "execute_result"
    }
   ],
   "source": [
    "#English\n",
    "'''one might have expenses that occur on specific days or get paid on increasingly weird schedules\n",
    "Recurent does parsing of english statements'''\n",
    "\n",
    "from recurrent import RecurringEvent\n",
    "frequency='every week until August 10th'\n",
    "r=RecurringEvent()\n",
    "r.parse(frequency)"
   ]
  },
  {
   "cell_type": "code",
   "execution_count": 19,
   "id": "2c3f9390",
   "metadata": {},
   "outputs": [
    {
     "data": {
      "text/plain": [
       "<dateutil.rrule.rrule at 0x21d15d8f610>"
      ]
     },
     "execution_count": 19,
     "metadata": {},
     "output_type": "execute_result"
    }
   ],
   "source": [
    "from dateutil import rrule\n",
    "#passing RFC rrule string from RecurrentEvent to rrule\n",
    "rr=rrule.rrulestr(r.get_RFC_rrule())\n",
    "rr #now every week until August 10th has been transformed into a rrule"
   ]
  },
  {
   "cell_type": "code",
   "execution_count": 20,
   "id": "f9666198",
   "metadata": {},
   "outputs": [
    {
     "data": {
      "text/plain": [
       "[datetime.datetime(2023, 7, 2, 22, 36, 45),\n",
       " datetime.datetime(2023, 7, 9, 22, 36, 45),\n",
       " datetime.datetime(2023, 7, 16, 22, 36, 45),\n",
       " datetime.datetime(2023, 7, 23, 22, 36, 45),\n",
       " datetime.datetime(2023, 7, 30, 22, 36, 45),\n",
       " datetime.datetime(2023, 8, 6, 22, 36, 45)]"
      ]
     },
     "execution_count": 20,
     "metadata": {},
     "output_type": "execute_result"
    }
   ],
   "source": [
    "#generating all dates that will happen from today\n",
    "rr.between(TODAY,END)"
   ]
  },
  {
   "cell_type": "code",
   "execution_count": 21,
   "id": "9c287dd7",
   "metadata": {},
   "outputs": [
    {
     "data": {
      "text/plain": [
       "[Timestamp('2023-07-02 00:00:00'),\n",
       " Timestamp('2023-07-09 00:00:00'),\n",
       " Timestamp('2023-07-16 00:00:00'),\n",
       " Timestamp('2023-07-23 00:00:00'),\n",
       " Timestamp('2023-07-30 00:00:00'),\n",
       " Timestamp('2023-08-06 00:00:00')]"
      ]
     },
     "execution_count": 21,
     "metadata": {},
     "output_type": "execute_result"
    }
   ],
   "source": [
    "#putting the dates in timestamp format\n",
    "[pd.to_datetime(date).normalize() for date in rr.between(TODAY,END)]"
   ]
  },
  {
   "cell_type": "code",
   "execution_count": 22,
   "id": "daa1a3e3",
   "metadata": {},
   "outputs": [],
   "source": [
    "#putting the dates in a dataframe object\n",
    "def get_dates(frequency):\n",
    "    #handling of single dates\n",
    "    try:\n",
    "        return [pd.Timestamp(frequency).normalize()]\n",
    "    except ValueError:\n",
    "        pass\n",
    "    #parse frequency with recurrent\n",
    "    try:\n",
    "        r=RecurringEvent()\n",
    "        r.parse(frequency)\n",
    "        rr=rrule.rrulestr(r.get_RFC_rrule())\n",
    "        return [pd.to_datetime(date).normalize() for date in rr.between(TODAY,END)]\n",
    "    except valueError as e:\n",
    "        raise ValueError('Invalid frequency')\n",
    "    "
   ]
  },
  {
   "cell_type": "code",
   "execution_count": 23,
   "id": "24f86ecd",
   "metadata": {},
   "outputs": [
    {
     "data": {
      "text/plain": [
       "[Timestamp('2023-07-04 00:00:00')]"
      ]
     },
     "execution_count": 23,
     "metadata": {},
     "output_type": "execute_result"
    }
   ],
   "source": [
    "get_dates('2023-07-04')"
   ]
  },
  {
   "cell_type": "code",
   "execution_count": 24,
   "id": "f556fb4f",
   "metadata": {},
   "outputs": [
    {
     "data": {
      "text/plain": [
       "[Timestamp('2023-07-02 00:00:00'),\n",
       " Timestamp('2023-07-09 00:00:00'),\n",
       " Timestamp('2023-07-16 00:00:00'),\n",
       " Timestamp('2023-07-23 00:00:00'),\n",
       " Timestamp('2023-07-30 00:00:00'),\n",
       " Timestamp('2023-08-06 00:00:00'),\n",
       " Timestamp('2023-08-13 00:00:00'),\n",
       " Timestamp('2023-08-20 00:00:00'),\n",
       " Timestamp('2023-08-27 00:00:00'),\n",
       " Timestamp('2023-09-03 00:00:00'),\n",
       " Timestamp('2023-09-10 00:00:00')]"
      ]
     },
     "execution_count": 24,
     "metadata": {},
     "output_type": "execute_result"
    }
   ],
   "source": [
    "get_dates('every week untill 15th september')"
   ]
  },
  {
   "cell_type": "code",
   "execution_count": 26,
   "id": "aeb8e159",
   "metadata": {},
   "outputs": [
    {
     "data": {
      "text/plain": [
       "[Timestamp('2023-07-07 00:00:00'),\n",
       " Timestamp('2023-07-08 00:00:00'),\n",
       " Timestamp('2023-07-14 00:00:00'),\n",
       " Timestamp('2023-07-15 00:00:00'),\n",
       " Timestamp('2023-07-21 00:00:00'),\n",
       " Timestamp('2023-07-22 00:00:00'),\n",
       " Timestamp('2023-07-28 00:00:00'),\n",
       " Timestamp('2023-07-29 00:00:00'),\n",
       " Timestamp('2023-08-04 00:00:00'),\n",
       " Timestamp('2023-08-05 00:00:00')]"
      ]
     },
     "execution_count": 26,
     "metadata": {},
     "output_type": "execute_result"
    }
   ],
   "source": [
    "#Adding Fun to our budget $40 every friday and saturday\n",
    "dates=get_dates('every week on Friday and saturday')\n",
    "dates[:10]"
   ]
  },
  {
   "cell_type": "code",
   "execution_count": 27,
   "id": "38fafd29",
   "metadata": {},
   "outputs": [
    {
     "data": {
      "text/plain": [
       "0   2023-07-07\n",
       "1   2023-07-08\n",
       "2   2023-07-14\n",
       "3   2023-07-15\n",
       "4   2023-07-21\n",
       "dtype: datetime64[ns]"
      ]
     },
     "execution_count": 27,
     "metadata": {},
     "output_type": "execute_result"
    }
   ],
   "source": [
    "#to wrap dates into a dataframe,list must be turned into a DateTimeIndex\n",
    "#ie.pd.DateTimeIndex only accepts a pandas series\n",
    "pd.Series(dates).head()"
   ]
  },
  {
   "cell_type": "code",
   "execution_count": 28,
   "id": "fb079c1a",
   "metadata": {},
   "outputs": [
    {
     "data": {
      "text/plain": [
       "DatetimeIndex(['2023-07-07', '2023-07-08', '2023-07-14', '2023-07-15',\n",
       "               '2023-07-21', '2023-07-22', '2023-07-28', '2023-07-29',\n",
       "               '2023-08-04', '2023-08-05',\n",
       "               ...\n",
       "               '2024-05-31', '2024-06-01', '2024-06-07', '2024-06-08',\n",
       "               '2024-06-14', '2024-06-15', '2024-06-21', '2024-06-22',\n",
       "               '2024-06-28', '2024-06-29'],\n",
       "              dtype='datetime64[ns]', length=104, freq=None)"
      ]
     },
     "execution_count": 28,
     "metadata": {},
     "output_type": "execute_result"
    }
   ],
   "source": [
    "pd.DatetimeIndex(pd.Series(dates))"
   ]
  },
  {
   "cell_type": "code",
   "execution_count": 30,
   "id": "a94443ce",
   "metadata": {},
   "outputs": [
    {
     "name": "stdout",
     "output_type": "stream",
     "text": [
      "            fun\n",
      "2023-07-07  -40\n",
      "2023-07-08  -40\n",
      "2023-07-14  -40\n",
      "2023-07-15  -40\n",
      "2023-07-21  -40\n"
     ]
    }
   ],
   "source": [
    "fun=pd.DataFrame(data={'fun':-40},\n",
    "                index=pd.DatetimeIndex(pd.Series(dates)))\n",
    "print(fun.head())"
   ]
  },
  {
   "cell_type": "code",
   "execution_count": null,
   "id": "1895fd81",
   "metadata": {},
   "outputs": [],
   "source": []
  },
  {
   "cell_type": "markdown",
   "id": "3ac8883d",
   "metadata": {},
   "source": [
    "## Investment"
   ]
  },
  {
   "cell_type": "code",
   "execution_count": 2,
   "id": "19ab3cad",
   "metadata": {},
   "outputs": [
    {
     "name": "stdout",
     "output_type": "stream",
     "text": [
      "            date  pirce  target  allocation  shares  market_val\n",
      "AMZ   2023-01-01    NaN     0.4           0       0           0\n",
      "CSCO  2023-01-01    NaN     0.3           0       0           0\n",
      "GE    2023-01-01    NaN     0.3           0       0           0\n",
      "CASH  2023-01-01    1.0     0.0           1   10000       10000\n"
     ]
    }
   ],
   "source": [
    "import pandas as pd\n",
    "import numpy as np\n",
    "#instantiate\n",
    "#stocks\n",
    "targets={'AMZ':0.40,#amazon\n",
    "        'CSCO':0.30,#Cisco\n",
    "        'GE':0.30#GENERAL ELECTRIC\n",
    "        }\n",
    "#instantiating a portifolio\n",
    "portifolio=pd.DataFrame(index=list(targets.keys())+['CASH'],\n",
    "                       data={\n",
    "                           'date':'2023-01-01',\n",
    "                           'pirce':[np.NaN,np.NaN,np.NaN,1],\n",
    "                           'target':[0.4,0.3,0.3,0],\n",
    "                           'allocation':[0,0,0,1],\n",
    "                           'shares':[0,0,0,10000],\n",
    "                           'market_val':[0,0,0,10000]\n",
    "                       })\n",
    "print(portifolio)"
   ]
  },
  {
   "cell_type": "code",
   "execution_count": 62,
   "id": "7a02b350",
   "metadata": {},
   "outputs": [],
   "source": [
    "#alternative\n",
    "#instatiatimg a reusable function that can work for arbitrary stocks and targets\n",
    "def instantiate_portifolio(targets,starting_bal):\n",
    "    targets['CASH']=0\n",
    "    tickers=list(targets.keys())\n",
    "    \n",
    "    df=pd.DataFrame(index=tickers,\n",
    "                   columns=['date','price','target','allocation','shares','market_val']\n",
    "    \n",
    "                   )\n",
    "    #initializing the values of the columns\n",
    "    df.shares=0\n",
    "    df.market_val=0\n",
    "    df.allocation=0\n",
    "    #updating the keys values\n",
    "    '''when updating the values of a dataframe with index val of a dict the column is initialized to\n",
    "    name'0',which is then renamed target '''\n",
    "    df.update(pd.DataFrame.from_dict(targets,orient='index')\n",
    "              .rename(columns={0:'target'})\n",
    "              \n",
    "             )\n",
    "    #cash row:shares column\n",
    "    df.at['CASH','shares']=starting_bal\n",
    "    df.at['CASH','market_val']=starting_bal\n",
    "    return df\n",
    "    \n",
    "    "
   ]
  },
  {
   "cell_type": "code",
   "execution_count": 69,
   "id": "f79d1a00",
   "metadata": {},
   "outputs": [
    {
     "name": "stdout",
     "output_type": "stream",
     "text": [
      "     date price target  allocation  shares  market_val\n",
      "AMZ   NaN   NaN    0.4           0       0           0\n",
      "CSCO  NaN   NaN    0.3           0       0           0\n",
      "GE    NaN   NaN    0.3           0       0           0\n",
      "CASH  NaN   NaN    0.0           0   10000       10000\n"
     ]
    }
   ],
   "source": [
    "portifolio=instantiate_portifolio({'AMZ':0.40,'CSCO':0.30,'GE':0.30},10000)\n",
    "print(portifolio)"
   ]
  },
  {
   "cell_type": "code",
   "execution_count": 67,
   "id": "fd4bdfb1",
   "metadata": {},
   "outputs": [],
   "source": [
    "#updating the prices function\n",
    "def update_prices(portifolio,prices):\n",
    "    prices['CASH']=1\n",
    "    portifolio.update(pd.DataFrame({'price':prices}))\n",
    "    portifolio.date=prices.name\n",
    "    portifolio.market_val=portifolio.shares*portifolio.price\n",
    "    \n",
    "#to use the update_func we pass the portifolio and series object that contains prices for a specific day\n",
    "#ie.series containing guesed values\n",
    "prices=pd.Series(name='2023-06-30',\n",
    "                data={'AMZ':945.21,'CSCO':30.52,'GE':29.27})"
   ]
  },
  {
   "cell_type": "code",
   "execution_count": 71,
   "id": "b13b794b",
   "metadata": {},
   "outputs": [
    {
     "name": "stdout",
     "output_type": "stream",
     "text": [
      "AMZ     945.21\n",
      "CSCO     30.52\n",
      "GE       29.27\n",
      "CASH      1.00\n",
      "Name: 2023-06-30, dtype: float64\n"
     ]
    }
   ],
   "source": [
    "update_prices(portifolio,prices)\n",
    "print(prices)"
   ]
  },
  {
   "cell_type": "code",
   "execution_count": 72,
   "id": "24252d69",
   "metadata": {},
   "outputs": [
    {
     "name": "stdout",
     "output_type": "stream",
     "text": [
      "            date   price target  allocation  shares market_val\n",
      "AMZ   2023-06-30  945.21    0.4           0       0        0.0\n",
      "CSCO  2023-06-30   30.52    0.3           0       0        0.0\n",
      "GE    2023-06-30   29.27    0.3           0       0        0.0\n",
      "CASH  2023-06-30     1.0    0.0           0   10000    10000.0\n"
     ]
    }
   ],
   "source": [
    "print(portifolio)"
   ]
  },
  {
   "cell_type": "code",
   "execution_count": 68,
   "id": "6f9f07ec",
   "metadata": {},
   "outputs": [],
   "source": [
    "#orders\n",
    "def get_order(portifolio):\n",
    "    total_val=portifolio.market_val.sum()\n",
    "    order=((total_val*portifolio.target//portifolio.price)-portifolio.shares).drop('CASH')\n",
    "    #The sign // is a floor division operatorie.gives whole numbers\n",
    "    return order"
   ]
  },
  {
   "cell_type": "code",
   "execution_count": 74,
   "id": "f4bc860d",
   "metadata": {},
   "outputs": [
    {
     "name": "stdout",
     "output_type": "stream",
     "text": [
      "4.0\n"
     ]
    }
   ],
   "source": [
    "'''If we want t buy shares we must buy whole share not fractionals'''\n",
    "#for AMZ\n",
    "total_val=10000\n",
    "target=0.4\n",
    "price=945.21\n",
    "AMZ=(total_val*target//price)-0\n",
    "print(AMZ)"
   ]
  },
  {
   "cell_type": "code",
   "execution_count": 75,
   "id": "325f72b5",
   "metadata": {},
   "outputs": [
    {
     "name": "stdout",
     "output_type": "stream",
     "text": [
      "AMZ       4.0\n",
      "CSCO     98.0\n",
      "GE      102.0\n",
      "dtype: object\n"
     ]
    }
   ],
   "source": [
    "#using the get_orders function\n",
    "order=get_order(portifolio)\n",
    "print(order)"
   ]
  },
  {
   "cell_type": "code",
   "execution_count": 69,
   "id": "6645922b",
   "metadata": {},
   "outputs": [],
   "source": [
    "#DEPOSIT\n",
    "def deposit(portifolio,amount):\n",
    "    portifolio.at['CASH','shares'] +=amount\n",
    "    portifolio.at['CASH','market_val']=portifolio.at['CASH','shares']\n",
    "    \n"
   ]
  },
  {
   "cell_type": "code",
   "execution_count": 77,
   "id": "cd1a1894",
   "metadata": {},
   "outputs": [
    {
     "name": "stdout",
     "output_type": "stream",
     "text": [
      "            date   price target  allocation  shares market_val\n",
      "AMZ   2023-06-30  945.21    0.4           0       0        0.0\n",
      "CSCO  2023-06-30   30.52    0.3           0       0        0.0\n",
      "GE    2023-06-30   29.27    0.3           0       0        0.0\n",
      "CASH  2023-06-30     1.0    0.0           0   11000      11000\n"
     ]
    }
   ],
   "source": [
    "deposit(portifolio,1000)\n",
    "print(portifolio)"
   ]
  },
  {
   "cell_type": "code",
   "execution_count": 78,
   "id": "7d38cc9e",
   "metadata": {},
   "outputs": [
    {
     "name": "stdout",
     "output_type": "stream",
     "text": [
      "AMZ       4.0\n",
      "CSCO    108.0\n",
      "GE      112.0\n",
      "dtype: object\n"
     ]
    }
   ],
   "source": [
    "#getting orders(gives the number of orders one can make given the value of cash)\n",
    "order=get_order(portifolio)\n",
    "print(order)"
   ]
  },
  {
   "cell_type": "code",
   "execution_count": 70,
   "id": "68b6341a",
   "metadata": {},
   "outputs": [],
   "source": [
    "'''simulating all the functions into one'''\n",
    "def simulate_order_process(portifolio,order):\n",
    "    starting_cash=portifolio.at['CASH','shares']\n",
    "    cash_adjustment=np.sum(order*portifolio.price)\n",
    "    portifolio.shares +=order\n",
    "    portifolio.market_val=portifolio.shares*portifolio.price\n",
    "    #remaining cash after buying shares\n",
    "    portifolio.at['CASH','shares']=starting_cash-cash_adjustment\n",
    "    portifolio.market_val= portifolio.shares*portifolio.price\n",
    "    portifolio.allocation=(portifolio.market_val/portifolio.market_val.sum())"
   ]
  },
  {
   "cell_type": "code",
   "execution_count": 80,
   "id": "002ff03a",
   "metadata": {},
   "outputs": [
    {
     "name": "stdout",
     "output_type": "stream",
     "text": [
      "            date   price target allocation  shares market_val\n",
      "AMZ   2023-06-30  945.21    0.4   0.343713     4.0    3780.84\n",
      "CSCO  2023-06-30   30.52    0.3   0.299651   108.0    3296.16\n",
      "GE    2023-06-30   29.27    0.3   0.298022   112.0    3278.24\n",
      "CASH  2023-06-30     1.0    0.0   0.058615  644.76     644.76\n"
     ]
    }
   ],
   "source": [
    "simulate_order_process(portifolio,order)\n",
    "print(portifolio)"
   ]
  },
  {
   "cell_type": "markdown",
   "id": "e22161e8",
   "metadata": {},
   "source": [
    "#### Alphavantage api key\n",
    "XXIKKRZTWOPAGELI"
   ]
  },
  {
   "cell_type": "code",
   "execution_count": 26,
   "id": "33032318",
   "metadata": {},
   "outputs": [],
   "source": [
    "AV_key='XXIKKRZTWOPAGELI'"
   ]
  },
  {
   "cell_type": "code",
   "execution_count": 71,
   "id": "b31b48e7",
   "metadata": {},
   "outputs": [],
   "source": [
    "import requests\n",
    "import pandas as pd\n",
    "from dotenv.main import load_dotenv,find_dotenv\n",
    "import os\n",
    "\n",
    "load_dotenv(find_dotenv())\n",
    "API_KEY=os.environ.get('AV_key')\n",
    "Today=pd.Timestamp.today().normalize()\n"
   ]
  },
  {
   "cell_type": "code",
   "execution_count": 86,
   "id": "e0278697",
   "metadata": {},
   "outputs": [
    {
     "name": "stdout",
     "output_type": "stream",
     "text": [
      "              AMZN\n",
      "2023-06-30  130.36\n",
      "2023-06-29  127.90\n",
      "2023-06-28  129.04\n",
      "2023-06-27  129.18\n",
      "2023-06-26  127.33\n",
      "2023-06-23  129.33\n",
      "2023-06-22  130.15\n",
      "2023-06-21  124.83\n",
      "2023-06-20  125.78\n",
      "2023-06-16  125.49\n"
     ]
    }
   ],
   "source": [
    "def get_price(ticker, outputsize='compact', most_recent=False):\n",
    "    URL = 'https://www.alphavantage.co/query?'\n",
    "    payload = {\n",
    "     'function': 'TIME_SERIES_DAILY_ADJUSTED',\n",
    "     'symbol': ticker,\n",
    "     'apikey': 'API_KEY',#API_KEY\n",
    "     'outputsize': outputsize\n",
    "        }\n",
    "    r = requests.get(URL, params=payload)\n",
    "    p=pd.DataFrame(r.json()['Time Series (Daily)']).T['4. close']\n",
    "    df = pd.DataFrame({ticker: p.apply(float)})\n",
    "    df.index = pd.to_datetime(df.index)\n",
    "    if most_recent:\n",
    "        return df.tail(1)\n",
    "    return df\n",
    "print(get_price('AMZN')[:10])"
   ]
  },
  {
   "cell_type": "code",
   "execution_count": 20,
   "id": "06f4ccaa",
   "metadata": {},
   "outputs": [
    {
     "name": "stdout",
     "output_type": "stream",
     "text": [
      "                  2023-06-30 2023-06-29 2023-06-28 2023-06-27\n",
      "1. open               129.47     128.77     128.94     128.63\n",
      "2. high              131.245     129.26     131.48    130.085\n",
      "3. low                128.95    127.255     128.44     127.55\n",
      "4. close              130.36      127.9     129.04     129.18\n",
      "5. adjusted close     130.36      127.9     129.04     129.18\n"
     ]
    }
   ],
   "source": [
    "pd.DataFrame(r.json()['Time Series (Daily)'])\n",
    "print(p.head()[p.columns[:4]])"
   ]
  },
  {
   "cell_type": "code",
   "execution_count": 37,
   "id": "5e317d84",
   "metadata": {},
   "outputs": [],
   "source": [
    "# #dot env function\n",
    "# LANGUAGE = 'Python'\n",
    "\n",
    "# # load_dotenv()\n",
    "# # favourite_language=os.environ['LANGUAGE']\n"
   ]
  },
  {
   "cell_type": "code",
   "execution_count": 76,
   "id": "7909c19e",
   "metadata": {},
   "outputs": [],
   "source": [
    "# print(\"Favourite programing language\"+favourite_language)\n",
    "import numpy as np"
   ]
  },
  {
   "cell_type": "code",
   "execution_count": 23,
   "id": "6462d519",
   "metadata": {},
   "outputs": [
    {
     "name": "stdout",
     "output_type": "stream",
     "text": [
      "<Response [200]>\n",
      "dict_keys(['Meta Data', 'Time Series (Daily)'])\n"
     ]
    }
   ],
   "source": [
    "'''Fetches the data using requests and returns the keys of the json file'''\n",
    "import requests\n",
    "import pandas as pd\n",
    "URL='https://www.alphavantage.co/query?'\n",
    "payload={'function':'TIME_SERIES_DAILY_ADJUSTED',\n",
    "        'symbol':'AMZN',\n",
    "        'apikey':'XXIKKRZTWOPAGELI',\n",
    "        'outputsize':'compact'}\n",
    "r=requests.get(URL,params=payload)\n",
    "print(r)\n",
    "print(r.json().keys())#data required is in time series (Daily)"
   ]
  },
  {
   "cell_type": "code",
   "execution_count": 17,
   "id": "0ea54369",
   "metadata": {},
   "outputs": [
    {
     "name": "stdout",
     "output_type": "stream",
     "text": [
      "                  2023-06-30 2023-06-29 2023-06-28 2023-06-27\n",
      "1. open               129.47     128.77     128.94     128.63\n",
      "2. high              131.245     129.26     131.48    130.085\n",
      "3. low                128.95    127.255     128.44     127.55\n",
      "4. close              130.36      127.9     129.04     129.18\n",
      "5. adjusted close     130.36      127.9     129.04     129.18\n"
     ]
    }
   ],
   "source": [
    "'''Gives the daily value of the stocks'''\n",
    "p=pd.DataFrame(r.json()['Time Series (Daily)'])\n",
    "print(p.head()[p.columns[:4]]) #prints out the first 4 columns and the 1st five rows(wide)"
   ]
  },
  {
   "cell_type": "code",
   "execution_count": 25,
   "id": "665591ed",
   "metadata": {},
   "outputs": [
    {
     "data": {
      "text/plain": [
       "2023-06-30    130.36\n",
       "2023-06-29     127.9\n",
       "2023-06-28    129.04\n",
       "2023-06-27    129.18\n",
       "2023-06-26    127.33\n",
       "Name: 4. close, dtype: object"
      ]
     },
     "execution_count": 25,
     "metadata": {},
     "output_type": "execute_result"
    }
   ],
   "source": [
    "'''to print the dataframe as long we transpose it with a call to .T and taking just the first 4.close \n",
    "columns and ignire the rest'''\n",
    "p=pd.DataFrame(r.json()['Time Series (Daily)']).T['4. close']\n",
    "p.head()\n"
   ]
  },
  {
   "cell_type": "code",
   "execution_count": 29,
   "id": "9c5ce020",
   "metadata": {},
   "outputs": [
    {
     "name": "stdout",
     "output_type": "stream",
     "text": [
      "              AMZN\n",
      "2023-06-30  130.36\n",
      "2023-06-29  127.90\n",
      "2023-06-28  129.04\n",
      "2023-06-27  129.18\n",
      "2023-06-26  127.33\n"
     ]
    }
   ],
   "source": [
    "'''Since all the values returned are strings they haveto be converted to floats'''\n",
    "ticker='AMZN'\n",
    "df=pd.DataFrame({ticker:p.apply(float)}) #AMZN column\n",
    "df.index=pd.to_datetime(df.index)\n",
    "print(df.head())"
   ]
  },
  {
   "cell_type": "code",
   "execution_count": 73,
   "id": "acbc54d6",
   "metadata": {},
   "outputs": [],
   "source": [
    "'''Constructing a function with multiple tickers'''\n",
    "def get_historical(tickers,start_date,end_date):\n",
    "    df=pd.DataFrame(index=pd.date_range(start_date,end_date,freq='D'))\n",
    "    for t in tickers:\n",
    "        df=pd.concat([df,\n",
    "                      get_price(t,outputsize='full')],\n",
    "                     axis=1,\n",
    "#                      join_axes=[df.index]) #join-updated syntax)\n",
    "                    )\n",
    "    df=df.fillna(method='ffill').dropna()\n",
    "    return df\n"
   ]
  },
  {
   "cell_type": "code",
   "execution_count": 59,
   "id": "5b33bc73",
   "metadata": {},
   "outputs": [
    {
     "name": "stdout",
     "output_type": "stream",
     "text": [
      "              AMZN   CSCO      GE\n",
      "2023-06-29  127.90  51.21  107.74\n",
      "2023-06-30  130.36  51.74  109.85\n",
      "2023-07-01  130.36  51.74  109.85\n",
      "2023-07-02  130.36  51.74  109.85\n",
      "2023-07-03  130.36  51.74  109.85\n"
     ]
    }
   ],
   "source": [
    "historical_prices=get_historical(tickers=['AMZN','CSCO','GE'],\n",
    "                                start_date=pd.Timestamp(2023,6,25),\n",
    "                                end_date=Today)\n",
    "print(historical_prices.tail())"
   ]
  },
  {
   "cell_type": "code",
   "execution_count": 60,
   "id": "bced456a",
   "metadata": {},
   "outputs": [
    {
     "data": {
      "text/plain": [
       "AMZN    129.18\n",
       "CSCO     50.86\n",
       "GE      104.92\n",
       "Name: 2023-06-27 00:00:00, dtype: float64"
      ]
     },
     "execution_count": 60,
     "metadata": {},
     "output_type": "execute_result"
    }
   ],
   "source": [
    "#grabing the price for a specifc day\n",
    "price=historical_prices.loc['2023-06-27']\n",
    "price"
   ]
  },
  {
   "cell_type": "code",
   "execution_count": 65,
   "id": "8475bdf2",
   "metadata": {},
   "outputs": [
    {
     "data": {
      "text/plain": [
       "AMZN    129.04\n",
       "CSCO     50.87\n",
       "GE      107.05\n",
       "Name: 2023-06-28 00:00:00, dtype: float64"
      ]
     },
     "execution_count": 65,
     "metadata": {},
     "output_type": "execute_result"
    }
   ],
   "source": [
    "pricv=historical_prices.loc['2023-06-28']\n",
    "pricv"
   ]
  },
  {
   "cell_type": "code",
   "execution_count": 91,
   "id": "0ce6f7bd",
   "metadata": {},
   "outputs": [
    {
     "data": {
      "text/plain": [
       "100000.0"
      ]
     },
     "execution_count": 91,
     "metadata": {},
     "output_type": "execute_result"
    }
   ],
   "source": [
    "#putting everything into action\n",
    "targets={'AMZN':0.40,'CSCO':0.30,'GE':0.30}\n",
    "portifolio=instantiate_portifolio(targets,100000.00)\n",
    "historical_prices=get_historical(tickers=['AMZN','CSCO','GE'],\n",
    "                                start_date=pd.Timestamp(2023,6,18),\n",
    "                                end_date=Today)\n",
    "prices=historical_prices.loc['2023-06-24']\n",
    "update_prices(portifolio,prices)\n",
    "order=get_order(portifolio)\n",
    "simulate_order_process(portifolio,order)\n",
    "portifolio.market_val.sum()"
   ]
  },
  {
   "cell_type": "code",
   "execution_count": 92,
   "id": "5364bc9e",
   "metadata": {},
   "outputs": [
    {
     "name": "stdout",
     "output_type": "stream",
     "text": [
      "           date   price target allocation shares market_val\n",
      "AMZN 2023-06-24  129.33    0.4    0.39963  309.0   39962.97\n",
      "CSCO 2023-06-24   50.33    0.3   0.299967  596.0   29996.68\n",
      "GE   2023-06-24  103.78    0.3   0.299924  289.0   29992.42\n",
      "CASH 2023-06-24     1.0    0.0   0.000479  47.93      47.93\n"
     ]
    }
   ],
   "source": [
    "print(portifolio)"
   ]
  },
  {
   "cell_type": "code",
   "execution_count": 93,
   "id": "46d6d20a",
   "metadata": {},
   "outputs": [
    {
     "name": "stdout",
     "output_type": "stream",
     "text": [
      "2022-03-31 00:00:00:\n",
      "AMZN    -179.0\n",
      "CSCO    5144.0\n",
      "GE      3209.0\n",
      "dtype: object\n",
      "2022-06-30 00:00:00:\n",
      "AMZN    1694.0\n",
      "CSCO   -2332.0\n",
      "GE     -1216.0\n",
      "dtype: object\n",
      "2022-09-30 00:00:00:\n",
      "AMZN   -112.0\n",
      "CSCO    220.0\n",
      "GE       62.0\n",
      "dtype: object\n",
      "2022-12-31 00:00:00:\n",
      "AMZN    731.0\n",
      "CSCO   -397.0\n",
      "GE     -507.0\n",
      "dtype: object\n"
     ]
    },
    {
     "data": {
      "text/plain": [
       "513132.7599999999"
      ]
     },
     "execution_count": 93,
     "metadata": {},
     "output_type": "execute_result"
    }
   ],
   "source": [
    "#rebalancing\n",
    "'''ie.excecuting orders on a quaterly basis'''\n",
    "historical_prices=get_historical(tickers=['AMZN','CSCO','GE'],\n",
    "                                start_date=pd.Timestamp(2022,1,1),\n",
    "                                end_date=pd.Timestamp(2022,12,31))\n",
    "dates=pd.date_range('2022-01-02','2022-12-31',freq='Q').tolist()\n",
    "for d in dates:\n",
    "    \n",
    "    prices=historical_prices.loc[d]\n",
    "    update_prices(portifolio,prices)\n",
    "    order=get_order(portifolio)\n",
    "    print(f'{d}:\\n{order}')\n",
    "    simulate_order_process(portifolio,order)\n",
    "portifolio.market_val.sum()"
   ]
  },
  {
   "cell_type": "code",
   "execution_count": 94,
   "id": "fc3e9795",
   "metadata": {},
   "outputs": [
    {
     "name": "stdout",
     "output_type": "stream",
     "text": [
      "           date  price target allocation  shares market_val\n",
      "AMZN 2022-12-31   84.0    0.4    0.39992  2443.0   205212.0\n",
      "CSCO 2022-12-31  47.64    0.3   0.299971  3231.0  153924.84\n",
      "GE   2022-12-31  83.79    0.3   0.299966  1837.0  153922.23\n",
      "CASH 2022-12-31    1.0    0.0   0.000144   73.69      73.69\n"
     ]
    }
   ],
   "source": [
    "print(portifolio)"
   ]
  },
  {
   "cell_type": "code",
   "execution_count": 1,
   "id": "23cd9001",
   "metadata": {},
   "outputs": [],
   "source": [
    "import wbdata"
   ]
  },
  {
   "cell_type": "code",
   "execution_count": 10,
   "id": "0f0ac042",
   "metadata": {},
   "outputs": [
    {
     "ename": "TypeError",
     "evalue": "string indices must be integers",
     "output_type": "error",
     "traceback": [
      "\u001b[1;31m---------------------------------------------------------------------------\u001b[0m",
      "\u001b[1;31mTypeError\u001b[0m                                 Traceback (most recent call last)",
      "Cell \u001b[1;32mIn[10], line 9\u001b[0m\n\u001b[0;32m      7\u001b[0m end_date\u001b[38;5;241m=\u001b[39m\u001b[38;5;124m'\u001b[39m\u001b[38;5;124m2020,11,1\u001b[39m\u001b[38;5;124m'\u001b[39m\n\u001b[0;32m      8\u001b[0m ticker\u001b[38;5;241m=\u001b[39m\u001b[38;5;124m'\u001b[39m\u001b[38;5;124musdjpy=x\u001b[39m\u001b[38;5;124m'\u001b[39m\n\u001b[1;32m----> 9\u001b[0m df\u001b[38;5;241m=\u001b[39m\u001b[43mdata\u001b[49m\u001b[38;5;241;43m.\u001b[39;49m\u001b[43mget_data_yahoo\u001b[49m\u001b[43m(\u001b[49m\u001b[43mstart_date\u001b[49m\u001b[43m,\u001b[49m\u001b[43mend_date\u001b[49m\u001b[43m)\u001b[49m\n\u001b[0;32m     10\u001b[0m df\u001b[38;5;241m.\u001b[39mhead()\n",
      "File \u001b[1;32m~\\Documents\\my program prac\\anaconda 3\\lib\\site-packages\\pandas_datareader\\data.py:80\u001b[0m, in \u001b[0;36mget_data_yahoo\u001b[1;34m(*args, **kwargs)\u001b[0m\n\u001b[0;32m     79\u001b[0m \u001b[38;5;28;01mdef\u001b[39;00m \u001b[38;5;21mget_data_yahoo\u001b[39m(\u001b[38;5;241m*\u001b[39margs, \u001b[38;5;241m*\u001b[39m\u001b[38;5;241m*\u001b[39mkwargs):\n\u001b[1;32m---> 80\u001b[0m     \u001b[38;5;28;01mreturn\u001b[39;00m \u001b[43mYahooDailyReader\u001b[49m\u001b[43m(\u001b[49m\u001b[38;5;241;43m*\u001b[39;49m\u001b[43margs\u001b[49m\u001b[43m,\u001b[49m\u001b[43m \u001b[49m\u001b[38;5;241;43m*\u001b[39;49m\u001b[38;5;241;43m*\u001b[39;49m\u001b[43mkwargs\u001b[49m\u001b[43m)\u001b[49m\u001b[38;5;241;43m.\u001b[39;49m\u001b[43mread\u001b[49m\u001b[43m(\u001b[49m\u001b[43m)\u001b[49m\n",
      "File \u001b[1;32m~\\Documents\\my program prac\\anaconda 3\\lib\\site-packages\\pandas_datareader\\base.py:253\u001b[0m, in \u001b[0;36m_DailyBaseReader.read\u001b[1;34m(self)\u001b[0m\n\u001b[0;32m    251\u001b[0m \u001b[38;5;66;03m# If a single symbol, (e.g., 'GOOG')\u001b[39;00m\n\u001b[0;32m    252\u001b[0m \u001b[38;5;28;01mif\u001b[39;00m \u001b[38;5;28misinstance\u001b[39m(\u001b[38;5;28mself\u001b[39m\u001b[38;5;241m.\u001b[39msymbols, (string_types, \u001b[38;5;28mint\u001b[39m)):\n\u001b[1;32m--> 253\u001b[0m     df \u001b[38;5;241m=\u001b[39m \u001b[38;5;28;43mself\u001b[39;49m\u001b[38;5;241;43m.\u001b[39;49m\u001b[43m_read_one_data\u001b[49m\u001b[43m(\u001b[49m\u001b[38;5;28;43mself\u001b[39;49m\u001b[38;5;241;43m.\u001b[39;49m\u001b[43murl\u001b[49m\u001b[43m,\u001b[49m\u001b[43m \u001b[49m\u001b[43mparams\u001b[49m\u001b[38;5;241;43m=\u001b[39;49m\u001b[38;5;28;43mself\u001b[39;49m\u001b[38;5;241;43m.\u001b[39;49m\u001b[43m_get_params\u001b[49m\u001b[43m(\u001b[49m\u001b[38;5;28;43mself\u001b[39;49m\u001b[38;5;241;43m.\u001b[39;49m\u001b[43msymbols\u001b[49m\u001b[43m)\u001b[49m\u001b[43m)\u001b[49m\n\u001b[0;32m    254\u001b[0m \u001b[38;5;66;03m# Or multiple symbols, (e.g., ['GOOG', 'AAPL', 'MSFT'])\u001b[39;00m\n\u001b[0;32m    255\u001b[0m \u001b[38;5;28;01melif\u001b[39;00m \u001b[38;5;28misinstance\u001b[39m(\u001b[38;5;28mself\u001b[39m\u001b[38;5;241m.\u001b[39msymbols, DataFrame):\n",
      "File \u001b[1;32m~\\Documents\\my program prac\\anaconda 3\\lib\\site-packages\\pandas_datareader\\yahoo\\daily.py:153\u001b[0m, in \u001b[0;36mYahooDailyReader._read_one_data\u001b[1;34m(self, url, params)\u001b[0m\n\u001b[0;32m    151\u001b[0m \u001b[38;5;28;01mtry\u001b[39;00m:\n\u001b[0;32m    152\u001b[0m     j \u001b[38;5;241m=\u001b[39m json\u001b[38;5;241m.\u001b[39mloads(re\u001b[38;5;241m.\u001b[39msearch(ptrn, resp\u001b[38;5;241m.\u001b[39mtext, re\u001b[38;5;241m.\u001b[39mDOTALL)\u001b[38;5;241m.\u001b[39mgroup(\u001b[38;5;241m1\u001b[39m))\n\u001b[1;32m--> 153\u001b[0m     data \u001b[38;5;241m=\u001b[39m \u001b[43mj\u001b[49m\u001b[43m[\u001b[49m\u001b[38;5;124;43m\"\u001b[39;49m\u001b[38;5;124;43mcontext\u001b[39;49m\u001b[38;5;124;43m\"\u001b[39;49m\u001b[43m]\u001b[49m\u001b[43m[\u001b[49m\u001b[38;5;124;43m\"\u001b[39;49m\u001b[38;5;124;43mdispatcher\u001b[39;49m\u001b[38;5;124;43m\"\u001b[39;49m\u001b[43m]\u001b[49m\u001b[43m[\u001b[49m\u001b[38;5;124;43m\"\u001b[39;49m\u001b[38;5;124;43mstores\u001b[39;49m\u001b[38;5;124;43m\"\u001b[39;49m\u001b[43m]\u001b[49m\u001b[43m[\u001b[49m\u001b[38;5;124;43m\"\u001b[39;49m\u001b[38;5;124;43mHistoricalPriceStore\u001b[39;49m\u001b[38;5;124;43m\"\u001b[39;49m\u001b[43m]\u001b[49m\n\u001b[0;32m    154\u001b[0m \u001b[38;5;28;01mexcept\u001b[39;00m \u001b[38;5;167;01mKeyError\u001b[39;00m:\n\u001b[0;32m    155\u001b[0m     msg \u001b[38;5;241m=\u001b[39m \u001b[38;5;124m\"\u001b[39m\u001b[38;5;124mNo data fetched for symbol \u001b[39m\u001b[38;5;132;01m{}\u001b[39;00m\u001b[38;5;124m using \u001b[39m\u001b[38;5;132;01m{}\u001b[39;00m\u001b[38;5;124m\"\u001b[39m\n",
      "\u001b[1;31mTypeError\u001b[0m: string indices must be integers"
     ]
    }
   ],
   "source": [
    "import pandas as pd\n",
    "from datetime import datetime\n",
    "from pandas_datareader import data\n",
    "start_date=datetime(2010,11,1)\n",
    "start_date='2010,11,1'\n",
    "\n",
    "end_date='2020,11,1'\n",
    "ticker='usdjpy=x'\n",
    "df=data.get_data_yahoo(start_date,end_date)\n",
    "df.head()"
   ]
  },
  {
   "cell_type": "code",
   "execution_count": 13,
   "id": "13dd13a8",
   "metadata": {},
   "outputs": [
    {
     "ename": "TypeError",
     "evalue": "string indices must be integers",
     "output_type": "error",
     "traceback": [
      "\u001b[1;31m---------------------------------------------------------------------------\u001b[0m",
      "\u001b[1;31mTypeError\u001b[0m                                 Traceback (most recent call last)",
      "Cell \u001b[1;32mIn[13], line 6\u001b[0m\n\u001b[0;32m      3\u001b[0m \u001b[38;5;28;01mfrom\u001b[39;00m \u001b[38;5;21;01mdatetime\u001b[39;00m \u001b[38;5;28;01mimport\u001b[39;00m datetime\n\u001b[0;32m      5\u001b[0m \u001b[38;5;66;03m# yf.pdr_override()\u001b[39;00m\n\u001b[1;32m----> 6\u001b[0m a \u001b[38;5;241m=\u001b[39m \u001b[43mpdr\u001b[49m\u001b[38;5;241;43m.\u001b[39;49m\u001b[43mget_data_yahoo\u001b[49m\u001b[43m(\u001b[49m\u001b[38;5;124;43m'\u001b[39;49m\u001b[38;5;124;43mAAPL\u001b[39;49m\u001b[38;5;124;43m'\u001b[39;49m\u001b[43m,\u001b[49m\u001b[43m \u001b[49m\u001b[43mstart\u001b[49m\u001b[38;5;241;43m=\u001b[39;49m\u001b[43mdatetime\u001b[49m\u001b[43m(\u001b[49m\u001b[38;5;241;43m2017\u001b[39;49m\u001b[43m,\u001b[49m\u001b[43m \u001b[49m\u001b[38;5;241;43m8\u001b[39;49m\u001b[43m,\u001b[49m\u001b[43m \u001b[49m\u001b[38;5;241;43m13\u001b[39;49m\u001b[43m)\u001b[49m\u001b[43m,\u001b[49m\u001b[43m \u001b[49m\u001b[43mend\u001b[49m\u001b[38;5;241;43m=\u001b[39;49m\u001b[43mdatetime\u001b[49m\u001b[43m(\u001b[49m\u001b[38;5;241;43m2017\u001b[39;49m\u001b[43m,\u001b[49m\u001b[43m \u001b[49m\u001b[38;5;241;43m8\u001b[39;49m\u001b[43m,\u001b[49m\u001b[43m \u001b[49m\u001b[38;5;241;43m14\u001b[39;49m\u001b[43m)\u001b[49m\u001b[43m)\u001b[49m\n\u001b[0;32m      7\u001b[0m b \u001b[38;5;241m=\u001b[39m pdr\u001b[38;5;241m.\u001b[39mget_data_yahoo(\u001b[38;5;124m'\u001b[39m\u001b[38;5;124mAMZN\u001b[39m\u001b[38;5;124m'\u001b[39m, start\u001b[38;5;241m=\u001b[39mdatetime(\u001b[38;5;241m2017\u001b[39m, \u001b[38;5;241m8\u001b[39m, \u001b[38;5;241m13\u001b[39m), end\u001b[38;5;241m=\u001b[39mdatetime(\u001b[38;5;241m2017\u001b[39m, \u001b[38;5;241m8\u001b[39m, \u001b[38;5;241m14\u001b[39m))\n\u001b[0;32m      8\u001b[0m c \u001b[38;5;241m=\u001b[39m pdr\u001b[38;5;241m.\u001b[39mget_data_yahoo(\u001b[38;5;124m'\u001b[39m\u001b[38;5;124mMSFT\u001b[39m\u001b[38;5;124m'\u001b[39m, start\u001b[38;5;241m=\u001b[39mdatetime(\u001b[38;5;241m2017\u001b[39m, \u001b[38;5;241m8\u001b[39m, \u001b[38;5;241m13\u001b[39m), end\u001b[38;5;241m=\u001b[39mdatetime(\u001b[38;5;241m2017\u001b[39m, \u001b[38;5;241m8\u001b[39m, \u001b[38;5;241m14\u001b[39m))\n",
      "File \u001b[1;32m~\\Documents\\my program prac\\anaconda 3\\lib\\site-packages\\pandas_datareader\\data.py:80\u001b[0m, in \u001b[0;36mget_data_yahoo\u001b[1;34m(*args, **kwargs)\u001b[0m\n\u001b[0;32m     79\u001b[0m \u001b[38;5;28;01mdef\u001b[39;00m \u001b[38;5;21mget_data_yahoo\u001b[39m(\u001b[38;5;241m*\u001b[39margs, \u001b[38;5;241m*\u001b[39m\u001b[38;5;241m*\u001b[39mkwargs):\n\u001b[1;32m---> 80\u001b[0m     \u001b[38;5;28;01mreturn\u001b[39;00m \u001b[43mYahooDailyReader\u001b[49m\u001b[43m(\u001b[49m\u001b[38;5;241;43m*\u001b[39;49m\u001b[43margs\u001b[49m\u001b[43m,\u001b[49m\u001b[43m \u001b[49m\u001b[38;5;241;43m*\u001b[39;49m\u001b[38;5;241;43m*\u001b[39;49m\u001b[43mkwargs\u001b[49m\u001b[43m)\u001b[49m\u001b[38;5;241;43m.\u001b[39;49m\u001b[43mread\u001b[49m\u001b[43m(\u001b[49m\u001b[43m)\u001b[49m\n",
      "File \u001b[1;32m~\\Documents\\my program prac\\anaconda 3\\lib\\site-packages\\pandas_datareader\\base.py:253\u001b[0m, in \u001b[0;36m_DailyBaseReader.read\u001b[1;34m(self)\u001b[0m\n\u001b[0;32m    251\u001b[0m \u001b[38;5;66;03m# If a single symbol, (e.g., 'GOOG')\u001b[39;00m\n\u001b[0;32m    252\u001b[0m \u001b[38;5;28;01mif\u001b[39;00m \u001b[38;5;28misinstance\u001b[39m(\u001b[38;5;28mself\u001b[39m\u001b[38;5;241m.\u001b[39msymbols, (string_types, \u001b[38;5;28mint\u001b[39m)):\n\u001b[1;32m--> 253\u001b[0m     df \u001b[38;5;241m=\u001b[39m \u001b[38;5;28;43mself\u001b[39;49m\u001b[38;5;241;43m.\u001b[39;49m\u001b[43m_read_one_data\u001b[49m\u001b[43m(\u001b[49m\u001b[38;5;28;43mself\u001b[39;49m\u001b[38;5;241;43m.\u001b[39;49m\u001b[43murl\u001b[49m\u001b[43m,\u001b[49m\u001b[43m \u001b[49m\u001b[43mparams\u001b[49m\u001b[38;5;241;43m=\u001b[39;49m\u001b[38;5;28;43mself\u001b[39;49m\u001b[38;5;241;43m.\u001b[39;49m\u001b[43m_get_params\u001b[49m\u001b[43m(\u001b[49m\u001b[38;5;28;43mself\u001b[39;49m\u001b[38;5;241;43m.\u001b[39;49m\u001b[43msymbols\u001b[49m\u001b[43m)\u001b[49m\u001b[43m)\u001b[49m\n\u001b[0;32m    254\u001b[0m \u001b[38;5;66;03m# Or multiple symbols, (e.g., ['GOOG', 'AAPL', 'MSFT'])\u001b[39;00m\n\u001b[0;32m    255\u001b[0m \u001b[38;5;28;01melif\u001b[39;00m \u001b[38;5;28misinstance\u001b[39m(\u001b[38;5;28mself\u001b[39m\u001b[38;5;241m.\u001b[39msymbols, DataFrame):\n",
      "File \u001b[1;32m~\\Documents\\my program prac\\anaconda 3\\lib\\site-packages\\pandas_datareader\\yahoo\\daily.py:153\u001b[0m, in \u001b[0;36mYahooDailyReader._read_one_data\u001b[1;34m(self, url, params)\u001b[0m\n\u001b[0;32m    151\u001b[0m \u001b[38;5;28;01mtry\u001b[39;00m:\n\u001b[0;32m    152\u001b[0m     j \u001b[38;5;241m=\u001b[39m json\u001b[38;5;241m.\u001b[39mloads(re\u001b[38;5;241m.\u001b[39msearch(ptrn, resp\u001b[38;5;241m.\u001b[39mtext, re\u001b[38;5;241m.\u001b[39mDOTALL)\u001b[38;5;241m.\u001b[39mgroup(\u001b[38;5;241m1\u001b[39m))\n\u001b[1;32m--> 153\u001b[0m     data \u001b[38;5;241m=\u001b[39m \u001b[43mj\u001b[49m\u001b[43m[\u001b[49m\u001b[38;5;124;43m\"\u001b[39;49m\u001b[38;5;124;43mcontext\u001b[39;49m\u001b[38;5;124;43m\"\u001b[39;49m\u001b[43m]\u001b[49m\u001b[43m[\u001b[49m\u001b[38;5;124;43m\"\u001b[39;49m\u001b[38;5;124;43mdispatcher\u001b[39;49m\u001b[38;5;124;43m\"\u001b[39;49m\u001b[43m]\u001b[49m\u001b[43m[\u001b[49m\u001b[38;5;124;43m\"\u001b[39;49m\u001b[38;5;124;43mstores\u001b[39;49m\u001b[38;5;124;43m\"\u001b[39;49m\u001b[43m]\u001b[49m\u001b[43m[\u001b[49m\u001b[38;5;124;43m\"\u001b[39;49m\u001b[38;5;124;43mHistoricalPriceStore\u001b[39;49m\u001b[38;5;124;43m\"\u001b[39;49m\u001b[43m]\u001b[49m\n\u001b[0;32m    154\u001b[0m \u001b[38;5;28;01mexcept\u001b[39;00m \u001b[38;5;167;01mKeyError\u001b[39;00m:\n\u001b[0;32m    155\u001b[0m     msg \u001b[38;5;241m=\u001b[39m \u001b[38;5;124m\"\u001b[39m\u001b[38;5;124mNo data fetched for symbol \u001b[39m\u001b[38;5;132;01m{}\u001b[39;00m\u001b[38;5;124m using \u001b[39m\u001b[38;5;132;01m{}\u001b[39;00m\u001b[38;5;124m\"\u001b[39m\n",
      "\u001b[1;31mTypeError\u001b[0m: string indices must be integers"
     ]
    }
   ],
   "source": [
    "from pandas_datareader import data as pdr\n",
    "# import fix_yahoo_finance as yf\n",
    "from datetime import datetime\n",
    "\n",
    "# yf.pdr_override()\n",
    "a = pdr.get_data_yahoo('AAPL', start=datetime(2017, 8, 13), end=datetime(2017, 8, 14))\n",
    "b = pdr.get_data_yahoo('AMZN', start=datetime(2017, 8, 13), end=datetime(2017, 8, 14))\n",
    "c = pdr.get_data_yahoo('MSFT', start=datetime(2017, 8, 13), end=datetime(2017, 8, 14))\n",
    "print(a)\n",
    "print(b)\n",
    "print(c)"
   ]
  },
  {
   "cell_type": "code",
   "execution_count": 3,
   "id": "8f7ab3c1",
   "metadata": {},
   "outputs": [],
   "source": [
    "import wbdata"
   ]
  },
  {
   "cell_type": "code",
   "execution_count": 14,
   "id": "30c65d5b",
   "metadata": {},
   "outputs": [
    {
     "data": {
      "text/html": [
       "<div>\n",
       "<style scoped>\n",
       "    .dataframe tbody tr th:only-of-type {\n",
       "        vertical-align: middle;\n",
       "    }\n",
       "\n",
       "    .dataframe tbody tr th {\n",
       "        vertical-align: top;\n",
       "    }\n",
       "\n",
       "    .dataframe thead th {\n",
       "        text-align: right;\n",
       "    }\n",
       "</style>\n",
       "<table border=\"1\" class=\"dataframe\">\n",
       "  <thead>\n",
       "    <tr style=\"text-align: right;\">\n",
       "      <th></th>\n",
       "      <th>gdp-growth</th>\n",
       "    </tr>\n",
       "    <tr>\n",
       "      <th>date</th>\n",
       "      <th></th>\n",
       "    </tr>\n",
       "  </thead>\n",
       "  <tbody>\n",
       "    <tr>\n",
       "      <th>2022-01-01</th>\n",
       "      <td>7.066442e+11</td>\n",
       "    </tr>\n",
       "    <tr>\n",
       "      <th>2021-01-01</th>\n",
       "      <td>7.161523e+11</td>\n",
       "    </tr>\n",
       "    <tr>\n",
       "      <th>2020-01-01</th>\n",
       "      <td>6.283697e+11</td>\n",
       "    </tr>\n",
       "    <tr>\n",
       "      <th>2019-01-01</th>\n",
       "      <td>5.167006e+11</td>\n",
       "    </tr>\n",
       "    <tr>\n",
       "      <th>2018-01-01</th>\n",
       "      <td>4.499071e+11</td>\n",
       "    </tr>\n",
       "    <tr>\n",
       "      <th>...</th>\n",
       "      <td>...</td>\n",
       "    </tr>\n",
       "    <tr>\n",
       "      <th>1964-01-01</th>\n",
       "      <td>1.672549e+10</td>\n",
       "    </tr>\n",
       "    <tr>\n",
       "      <th>1963-01-01</th>\n",
       "      <td>1.687865e+10</td>\n",
       "    </tr>\n",
       "    <tr>\n",
       "      <th>1962-01-01</th>\n",
       "      <td>1.725246e+10</td>\n",
       "    </tr>\n",
       "    <tr>\n",
       "      <th>1961-01-01</th>\n",
       "      <td>1.882553e+10</td>\n",
       "    </tr>\n",
       "    <tr>\n",
       "      <th>1960-01-01</th>\n",
       "      <td>1.966416e+10</td>\n",
       "    </tr>\n",
       "  </tbody>\n",
       "</table>\n",
       "<p>63 rows × 1 columns</p>\n",
       "</div>"
      ],
      "text/plain": [
       "              gdp-growth\n",
       "date                    \n",
       "2022-01-01  7.066442e+11\n",
       "2021-01-01  7.161523e+11\n",
       "2020-01-01  6.283697e+11\n",
       "2019-01-01  5.167006e+11\n",
       "2018-01-01  4.499071e+11\n",
       "...                  ...\n",
       "1964-01-01  1.672549e+10\n",
       "1963-01-01  1.687865e+10\n",
       "1962-01-01  1.725246e+10\n",
       "1961-01-01  1.882553e+10\n",
       "1960-01-01  1.966416e+10\n",
       "\n",
       "[63 rows x 1 columns]"
      ]
     },
     "execution_count": 14,
     "metadata": {},
     "output_type": "execute_result"
    }
   ],
   "source": [
    "\n",
    "country=[\"USA\"]\n",
    "indicator={\"FI.RES.TOTL.CD\":\"gdp-growth\"}\n",
    "df=wbdata.get_dataframe(indicator,country=country,convert_date=True)\n",
    "df"
   ]
  },
  {
   "cell_type": "code",
   "execution_count": 15,
   "id": "df8ba084",
   "metadata": {},
   "outputs": [
    {
     "data": {
      "text/plain": [
       "  id  value\n",
       "----  -------------------------------\n",
       "   1  Agriculture & Rural Development\n",
       "   2  Aid Effectiveness\n",
       "   3  Economy & Growth\n",
       "   4  Education\n",
       "   5  Energy & Mining\n",
       "   6  Environment\n",
       "   7  Financial Sector\n",
       "   8  Health\n",
       "   9  Infrastructure\n",
       "  10  Social Protection & Labor\n",
       "  11  Poverty\n",
       "  12  Private Sector\n",
       "  13  Public Sector\n",
       "  14  Science & Technology\n",
       "  15  Social Development\n",
       "  16  Urban Development\n",
       "  17  Gender\n",
       "  18  Millenium development goals\n",
       "  19  Climate Change\n",
       "  20  External Debt\n",
       "  21  Trade"
      ]
     },
     "execution_count": 15,
     "metadata": {},
     "output_type": "execute_result"
    }
   ],
   "source": [
    "wbdata.get_topic()"
   ]
  },
  {
   "cell_type": "code",
   "execution_count": 3,
   "id": "93a5737e",
   "metadata": {},
   "outputs": [
    {
     "data": {
      "text/plain": [
       "  id  name\n",
       "----  --------------------------------------------------------------------\n",
       "   1  Doing Business\n",
       "   2  World Development Indicators\n",
       "   3  Worldwide Governance Indicators\n",
       "   5  Subnational Malnutrition Database\n",
       "   6  International Debt Statistics\n",
       "  11  Africa Development Indicators\n",
       "  12  Education Statistics\n",
       "  13  Enterprise Surveys\n",
       "  14  Gender Statistics\n",
       "  15  Global Economic Monitor\n",
       "  16  Health Nutrition and Population Statistics\n",
       "  18  IDA Results Measurement System\n",
       "  19  Millennium Development Goals\n",
       "  20  Quarterly Public Sector Debt\n",
       "  22  Quarterly External Debt Statistics SDDS\n",
       "  23  Quarterly External Debt Statistics GDDS\n",
       "  25  Jobs\n",
       "  27  Global Economic Prospects\n",
       "  28  Global Financial Inclusion\n",
       "  29  The Atlas of Social Protection: Indicators of Resilience and Equity\n",
       "  30  Exporter Dynamics Database – Indicators at Country-Year Level\n",
       "  31  Country Policy and Institutional Assessment\n",
       "  32  Global Financial Development\n",
       "  33  G20 Financial Inclusion Indicators\n",
       "  34  Global Partnership for Education\n",
       "  35  Sustainable Energy for All\n",
       "  37  LAC Equity Lab\n",
       "  38  Subnational Poverty\n",
       "  39  Health Nutrition and Population Statistics by Wealth Quintile\n",
       "  40  Population estimates and projections\n",
       "  41  Country Partnership Strategy for India (FY2013 - 17)\n",
       "  43  Adjusted Net Savings\n",
       "  45  Indonesia Database for Policy and Economic Research\n",
       "  46  Sustainable Development Goals\n",
       "  50  Subnational Population\n",
       "  54  Joint External Debt Hub\n",
       "  57  WDI Database Archives\n",
       "  58  Universal Health Coverage\n",
       "  59  Wealth Accounts\n",
       "  60  Economic Fitness\n",
       "  61  PPPs Regulatory Quality\n",
       "  62  International Comparison Program (ICP) 2011\n",
       "  63  Human Capital Index\n",
       "  64  Worldwide Bureaucracy Indicators\n",
       "  65  Health Equity and Financial Protection Indicators\n",
       "  66  Logistics Performance Index\n",
       "  67  PEFA 2011\n",
       "  68  PEFA 2016\n",
       "  69  Global Financial Inclusion and Consumer Protection Survey\n",
       "  70  Economic Fitness 2\n",
       "  71  International Comparison Program (ICP) 2005\n",
       "  73  Global Financial Inclusion and Consumer Protection Survey (Internal)\n",
       "  75  Environment, Social and Governance (ESG) Data\n",
       "  76  Remittance Prices Worldwide (Sending Countries)\n",
       "  77  Remittance Prices Worldwide (Receiving Countries)\n",
       "  78  ICP 2017\n",
       "  79  PEFA_GRPFM\n",
       "  80  Gender Disaggregated Labor Database (GDLD)\n",
       "  81  International Debt Statistics: DSSI\n",
       "  82  Global Public Procurement\n",
       "  83  Statistical Performance Indicators (SPI)\n",
       "  84  Education Policy\n",
       "  85  PEFA_2021_SNG\n",
       "  86  Global Jobs Indicators Database (JOIN)\n",
       "  87  Country Climate and Development Report (CCDR)\n",
       "  88  Food Prices for Nutrition\n",
       "  89  Identification for Development (ID4D) Data"
      ]
     },
     "execution_count": 3,
     "metadata": {},
     "output_type": "execute_result"
    }
   ],
   "source": [
    "sources=wbdata.get_source()\n",
    "sources"
   ]
  },
  {
   "cell_type": "code",
   "execution_count": 5,
   "id": "c9356f60",
   "metadata": {},
   "outputs": [
    {
     "data": {
      "text/plain": [
       "id    name\n",
       "----  --------------------\n",
       "CHN   China\n",
       "HKG   Hong Kong SAR, China\n",
       "MAC   Macao SAR, China\n",
       "TWN   Taiwan, China"
      ]
     },
     "execution_count": 5,
     "metadata": {},
     "output_type": "execute_result"
    }
   ],
   "source": [
    "wbdata.search_countries(\"China\")"
   ]
  },
  {
   "cell_type": "code",
   "execution_count": 1,
   "id": "09d6c2d1",
   "metadata": {},
   "outputs": [],
   "source": [
    "# ind=wbdata.search_indicators(\"inflation\")"
   ]
  },
  {
   "cell_type": "code",
   "execution_count": 4,
   "id": "c2d62ac9",
   "metadata": {},
   "outputs": [
    {
     "data": {
      "text/plain": [
       "id    name\n",
       "----  ------"
      ]
     },
     "execution_count": 4,
     "metadata": {},
     "output_type": "execute_result"
    }
   ],
   "source": [
    "wbdata.search_countries(\"USA\")"
   ]
  },
  {
   "cell_type": "code",
   "execution_count": 7,
   "id": "cc393b3e",
   "metadata": {},
   "outputs": [
    {
     "data": {
      "image/png": "[encoded data removed]",
      "text/plain": [
       "<Figure size 640x480 with 1 Axes>"
      ]
     },
     "metadata": {},
     "output_type": "display_data"
    }
   ],
   "source": [
    "import matplotlib.pyplot as plt\n",
    "%matplotlib inline\n",
    "country=['USA']\n",
    "indicator={\"FP.CPI.TOTL\":\"lending_rate\"}\n",
    "inflation_cpi=wbdata.get_dataframe(indicator,country=country,convert_date=True)\n",
    "inflation_cpi.plot(kind=\"line\",color=\"green\",lw=4)\n",
    "plt.title(\"The U.S lending  intrest rate (%)\")\n",
    "plt.ylabel(\"Lending  intrest rate (%)\")\n",
    "plt.xlabel(\"Date\")\n",
    "plt.legend(loc=\"best\")\n",
    "plt.show()"
   ]
  },
  {
   "cell_type": "code",
   "execution_count": 8,
   "id": "91e650df",
   "metadata": {},
   "outputs": [
    {
     "data": {
      "image/png": "[encoded data removed]",
      "text/plain": [
       "<Figure size 640x480 with 1 Axes>"
      ]
     },
     "metadata": {},
     "output_type": "display_data"
    }
   ],
   "source": [
    "indicator={\"NE.CON.TOTL.CD\":\"final_consuption\"}\n",
    "final_consuption=wbdata.get_dataframe(indicator,country=country,convert_date=True)\n",
    "final_consuption.plot(kind=\"line\",color=\"orange\",lw=4)\n",
    "plt.title(\"Final Consuption Expenditure\")\n",
    "plt.ylabel(\"FCE\")\n",
    "plt.xlabel(\"Date\")\n",
    "plt.legend(loc=\"best\")\n",
    "plt.show()"
   ]
  },
  {
   "cell_type": "code",
   "execution_count": 11,
   "id": "964d76cb",
   "metadata": {},
   "outputs": [
    {
     "data": {
      "text/html": [
       "<div>\n",
       "<style scoped>\n",
       "    .dataframe tbody tr th:only-of-type {\n",
       "        vertical-align: middle;\n",
       "    }\n",
       "\n",
       "    .dataframe tbody tr th {\n",
       "        vertical-align: top;\n",
       "    }\n",
       "\n",
       "    .dataframe thead th {\n",
       "        text-align: right;\n",
       "    }\n",
       "</style>\n",
       "<table border=\"1\" class=\"dataframe\">\n",
       "  <thead>\n",
       "    <tr style=\"text-align: right;\">\n",
       "      <th></th>\n",
       "      <th>lending_rate</th>\n",
       "      <th>final_consuption</th>\n",
       "    </tr>\n",
       "    <tr>\n",
       "      <th>date</th>\n",
       "      <th></th>\n",
       "      <th></th>\n",
       "    </tr>\n",
       "  </thead>\n",
       "  <tbody>\n",
       "    <tr>\n",
       "      <th>2022</th>\n",
       "      <td>134.211206</td>\n",
       "      <td>NaN</td>\n",
       "    </tr>\n",
       "    <tr>\n",
       "      <th>2021</th>\n",
       "      <td>124.266414</td>\n",
       "      <td>1.925631e+13</td>\n",
       "    </tr>\n",
       "    <tr>\n",
       "      <th>2020</th>\n",
       "      <td>118.690502</td>\n",
       "      <td>1.725454e+13</td>\n",
       "    </tr>\n",
       "    <tr>\n",
       "      <th>2019</th>\n",
       "      <td>117.244195</td>\n",
       "      <td>1.740150e+13</td>\n",
       "    </tr>\n",
       "    <tr>\n",
       "      <th>2018</th>\n",
       "      <td>115.157303</td>\n",
       "      <td>1.677191e+13</td>\n",
       "    </tr>\n",
       "  </tbody>\n",
       "</table>\n",
       "</div>"
      ],
      "text/plain": [
       "      lending_rate  final_consuption\n",
       "date                                \n",
       "2022    134.211206               NaN\n",
       "2021    124.266414      1.925631e+13\n",
       "2020    118.690502      1.725454e+13\n",
       "2019    117.244195      1.740150e+13\n",
       "2018    115.157303      1.677191e+13"
      ]
     },
     "execution_count": 11,
     "metadata": {},
     "output_type": "execute_result"
    }
   ],
   "source": [
    "indicators={\"FP.CPI.TOTL\":\"lending_rate\",\n",
    "           \"NE.CON.TOTL.CD\":\"final_consuption\"}\n",
    "df=wbdata.get_dataframe(indicators,country=country,freq=\"M\",convert_date=False)\n",
    "df.head()"
   ]
  },
  {
   "cell_type": "code",
   "execution_count": 12,
   "id": "9e478e31",
   "metadata": {},
   "outputs": [
    {
     "data": {
      "image/png": "[encoded data removed]",
      "text/plain": [
       "<Figure size 600x600 with 3 Axes>"
      ]
     },
     "metadata": {},
     "output_type": "display_data"
    }
   ],
   "source": [
    "import seaborn as sns\n",
    "sns.jointplot(x=\"lending_rate\",y=\"final_consuption\",data=df,kind=\"reg\",color=\"navy\")\n",
    "plt.show()"
   ]
  },
  {
   "cell_type": "code",
   "execution_count": 3,
   "id": "63f2baec",
   "metadata": {},
   "outputs": [
    {
     "ename": "ModuleNotFoundError",
     "evalue": "No module named 'matplotlib.finance'",
     "output_type": "error",
     "traceback": [
      "\u001b[1;31m---------------------------------------------------------------------------\u001b[0m",
      "\u001b[1;31mModuleNotFoundError\u001b[0m                       Traceback (most recent call last)",
      "Cell \u001b[1;32mIn[3], line 1\u001b[0m\n\u001b[1;32m----> 1\u001b[0m \u001b[38;5;28;01mfrom\u001b[39;00m \u001b[38;5;21;01mmatplotlib\u001b[39;00m\u001b[38;5;21;01m.\u001b[39;00m\u001b[38;5;21;01mfinance\u001b[39;00m \u001b[38;5;28;01mimport\u001b[39;00m fetch_historical_yahoo,parse_yahoo_historical_ochl\n",
      "\u001b[1;31mModuleNotFoundError\u001b[0m: No module named 'matplotlib.finance'"
     ]
    }
   ],
   "source": [
    "from matplotlib.finance import fetch_historical_yahoo,parse_yahoo_historical_ochl"
   ]
  },
  {
   "cell_type": "code",
   "execution_count": null,
   "id": "4b3f338f",
   "metadata": {},
   "outputs": [],
   "source": []
  }
 ],
 "metadata": {
  "kernelspec": {
   "display_name": "Python 3 (ipykernel)",
   "language": "python",
   "name": "python3"
  },
  "language_info": {
   "codemirror_mode": {
    "name": "ipython",
    "version": 3
   },
   "file_extension": ".py",
   "mimetype": "text/x-python",
   "name": "python",
   "nbconvert_exporter": "python",
   "pygments_lexer": "ipython3",
   "version": "3.11.4"
  }
 },
 "nbformat": 4,
 "nbformat_minor": 5
}
