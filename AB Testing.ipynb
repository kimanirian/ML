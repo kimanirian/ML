{
 "cells": [
  {
   "cell_type": "markdown",
   "id": "74ac7512",
   "metadata": {},
   "source": [
    "# A/B Testing Simulation"
   ]
  },
  {
   "cell_type": "markdown",
   "id": "263fbdd7",
   "metadata": {},
   "source": [
    "We want to test whether a new website design increases the conversion rate compared to the old design. We randomly divide 1000 website visitors into two groups: 500 visitors see the old design (group A) and 500 visitors see the new design (group B). We assume that the true conversion rates are 10% for group A and 12% for group B."
   ]
  },
  {
   "cell_type": "markdown",
   "id": "0d32b6ef",
   "metadata": {},
   "source": [
    "In the context of A/B testing, a [conversion rate](https://mailchimp.com/marketing-glossary/conversion-rates/) typically measures the percentage of users who completed a desired action, such as making a purchase or signing up for a service, out of the total number of users who were presented with the opportunity to take that action.\n",
    "\n",
    "For example, if 1,000 people visited a website and 50 of them made a purchase, the conversion rate would be 5% (50/1,000). Similarly, if 500 people were shown an advertisement and 20 of them clicked on the ad, the conversion rate would be 4% (20/500)."
   ]
  },
  {
   "cell_type": "markdown",
   "id": "8dac3a50",
   "metadata": {},
   "source": [
    "***\n",
    "## Designing the experiment"
   ]
  },
  {
   "cell_type": "markdown",
   "id": "cc4a7d80",
   "metadata": {},
   "source": [
    "### Formulating a hypothesis\n",
    "We'll choose a <a href=\"https://www.ncl.ac.uk/webtemplate/ask-assets/external/maths-resources/statistics/hypothesis-testing/one-tailed-and-two-tailed-tests.html#:~:text=The%20main%20difference%20between%20one,using%20a%20two%2Dtailed%20test.\">**one-tailed test**</a>:\n",
    "\n",
    "$$H_0: p = p_0$$\n",
    "$$H_a: p > p_0$$\n",
    "\n",
    "In words; <br>\n",
    "\n",
    "Null Hypothesis: There is no significant difference in the conversion rates between group A and group B.\n",
    "\n",
    "Alternative Hypothesis: The conversion rate of group B is significantly higher than the conversion rate of group A.\n",
    "\n",
    "where $p$ and $p_0$ stand for the conversion rate of the new and old design, respectively. \n",
    "We'll set a **confidence level of 95%**:\n",
    "\n",
    "$$\\alpha = 0.05$$\n",
    "\n",
    "The $\\alpha$ value is the probability of rejecting the null hypothesis when it is actually true. A common significance level is 0.05, which means that there is a 5% chance of incorrectly rejecting the null hypothesis. Since our $\\alpha=0.05$ (indicating 5% probability), our confidence (1 - $\\alpha$) is 95%."
   ]
  },
  {
   "cell_type": "markdown",
   "id": "8df3016c",
   "metadata": {},
   "source": [
    "### The variables\n",
    "\n",
    "For our test we'll need **two groups**:\n",
    "* Group A, `control` group - They'll be shown the old design\n",
    "* Group B, `treatment` (or experimental) group - They'll be shown the new design\n",
    "\n",
    "This will be our *Independent Variable*.\n",
    "\n",
    "For our *Dependent Variable*  we are interested in capturing the `conversion rate`. A way we can code this is by  each user session with a binary variable:\n",
    "* `0` - The user did not buy the product during this user session\n",
    "* `1` - The user bought the product during this user session\n",
    "\n",
    "This way, we can easily calculate the conversion rate of each design."
   ]
  },
  {
   "cell_type": "code",
   "execution_count": 1,
   "id": "8990dd2e",
   "metadata": {},
   "outputs": [],
   "source": [
    "# Import required libraries\n",
    "import numpy as np\n",
    "from scipy.stats import ttest_ind"
   ]
  },
  {
   "cell_type": "code",
   "execution_count": 2,
   "id": "8aa90e12",
   "metadata": {},
   "outputs": [],
   "source": [
    "# Set random seed for reproducibility\n",
    "#np.random.seed(123)"
   ]
  },
  {
   "cell_type": "code",
   "execution_count": 11,
   "id": "d203cdb5",
   "metadata": {},
   "outputs": [],
   "source": [
    "# Define sample size and true conversion rates\n",
    "n = 1000\n",
    "rate_A = 0.10\n",
    "rate_B = 0.12"
   ]
  },
  {
   "cell_type": "markdown",
   "id": "f0d1e175",
   "metadata": {},
   "source": [
    "We can simulate the results of the A/B test by randomly generating binary outcomes for each visitor: 0 for no conversion and 1 for conversion. If the conversion rate is 10%, we can use 0.1 to generate a random binary outcome.We repeat this process for each visitor in both groups to obtain two arrays of binary outcomes, representing the conversion results for group A and group B."
   ]
  },
  {
   "cell_type": "code",
   "execution_count": 4,
   "id": "15ee858b",
   "metadata": {},
   "outputs": [],
   "source": [
    "# Generate binary outcomes for group A\n",
    "outcomes_A = np.random.binomial(n=10, p=rate_A, size=n)\n",
    "\n",
    "# Generate binary outcomes for group B\n",
    "outcomes_B = np.random.binomial(n=10, p=rate_B, size=n)"
   ]
  },
  {
   "cell_type": "code",
   "execution_count": 5,
   "id": "db3a3f8f",
   "metadata": {},
   "outputs": [
    {
     "data": {
      "text/plain": [
       "array([1, 0, 0, 1, 1, 1, 3, 1, 1, 1, 0, 1, 1, 0, 1, 2, 0, 0, 1, 1, 1, 2,\n",
       "       1, 1, 1, 0, 1, 0, 0, 1, 0, 1, 1, 1, 1, 0, 1, 2, 3, 1, 1, 0, 0, 1,\n",
       "       2, 0, 1, 3, 1, 1, 0, 2, 1, 1, 0, 0, 1, 1, 2, 1, 1, 1, 1, 1, 2, 0,\n",
       "       2, 0, 0, 1, 0, 2, 1, 1, 0, 1, 1, 0, 0, 1, 0, 1, 1, 1, 2, 2, 1, 0,\n",
       "       0, 1, 1, 4, 1, 2, 1, 1, 0, 1, 0, 0, 1, 1, 0, 0, 0, 1, 2, 1, 2, 1,\n",
       "       0, 1, 0, 2, 0, 1, 1, 1, 0, 4, 2, 0, 0, 1, 2, 3, 0, 1, 2, 1, 1, 0,\n",
       "       1, 2, 3, 0, 1, 0, 1, 1, 0, 0, 2, 1, 1, 2, 2, 0, 1, 2, 0, 2, 0, 0,\n",
       "       1, 0, 1, 2, 1, 1, 1, 2, 1, 0, 1, 2, 0, 2, 2, 1, 2, 0, 2, 2, 2, 0,\n",
       "       0, 0, 1, 1, 1, 0, 0, 2, 1, 2, 0, 1, 3, 1, 0, 1, 1, 1, 0, 1, 0, 2,\n",
       "       1, 0, 1, 0, 1, 4, 2, 1, 0, 1, 1, 0, 2, 1, 1, 2, 1, 1, 0, 0, 2, 0,\n",
       "       1, 4, 0, 2, 2, 0, 1, 1, 0, 0, 0, 0, 0, 2, 2, 0, 0, 3, 1, 1, 0, 1,\n",
       "       4, 1, 0, 1, 3, 0, 2, 2, 0, 1, 1, 1, 0, 3, 1, 2, 0, 0, 1, 0, 4, 0,\n",
       "       1, 0, 0, 0, 0, 1, 0, 1, 0, 1, 1, 0, 1, 0, 1, 0, 2, 0, 0, 2, 0, 1,\n",
       "       3, 2, 1, 3, 1, 2, 1, 2, 0, 3, 2, 2, 0, 1, 0, 1, 0, 0, 0, 2, 1, 1,\n",
       "       1, 0, 1, 1, 0, 1, 1, 3, 1, 3, 1, 1, 0, 1, 2, 0, 0, 1, 1, 2, 0, 2,\n",
       "       1, 2, 1, 2, 0, 1, 1, 2, 1, 0, 3, 2, 1, 1, 0, 0, 0, 0, 2, 2, 1, 3,\n",
       "       1, 0, 0, 0, 0, 0, 1, 1, 1, 0, 1, 0, 0, 2, 1, 0, 1, 1, 2, 1, 0, 2,\n",
       "       2, 0, 2, 1, 2, 0, 0, 3, 1, 2, 1, 0, 1, 2, 1, 0, 0, 0, 3, 1, 0, 1,\n",
       "       0, 1, 0, 2, 1, 0, 3, 0, 2, 0, 1, 1, 1, 0, 0, 0, 3, 1, 1, 1, 0, 0,\n",
       "       1, 2, 1, 0, 3, 2, 0, 3, 4, 1, 1, 1, 0, 0, 0, 0, 1, 0, 3, 0, 1, 1,\n",
       "       1, 1, 2, 0, 0, 2, 2, 0, 1, 0, 0, 2, 1, 1, 3, 0, 0, 0, 1, 2, 1, 1,\n",
       "       1, 2, 1, 0, 2, 0, 0, 1, 0, 1, 1, 0, 5, 0, 1, 0, 2, 0, 0, 1, 1, 1,\n",
       "       0, 0, 1, 0, 2, 0, 1, 4, 2, 0, 0, 3, 2, 2, 1, 2, 0, 1, 2, 0, 2, 1,\n",
       "       1, 0, 2, 1, 2, 2, 2, 0, 0, 1, 1, 3, 1, 1, 1, 1, 4, 0, 0, 0, 0, 0,\n",
       "       2, 1, 0, 3, 1, 0, 1, 1, 0, 1, 1, 1, 0, 1, 1, 1, 1, 2, 1, 0, 1, 2,\n",
       "       1, 0, 1, 2, 0, 2, 0, 1, 1, 0, 1, 0, 2, 1, 2, 1, 0, 0, 2, 1, 1, 0,\n",
       "       0, 3, 1, 2, 1, 2, 2, 3, 1, 2, 1, 1, 1, 1, 0, 1, 2, 0, 1, 1, 1, 0,\n",
       "       1, 1, 1, 1, 0, 0, 1, 1, 3, 2, 1, 1, 1, 0, 1, 0, 1, 0, 1, 3, 0, 0,\n",
       "       0, 3, 2, 0, 3, 2, 1, 3, 2, 1, 1, 1, 0, 0, 1, 0, 1, 3, 1, 1, 0, 4,\n",
       "       1, 0, 0, 3, 3, 1, 0, 0, 2, 2, 1, 1, 0, 0, 0, 3, 2, 0, 0, 1, 2, 2,\n",
       "       0, 3, 0, 1, 1, 3, 1, 1, 1, 2, 0, 0, 3, 1, 0, 1, 2, 1, 2, 1, 2, 0,\n",
       "       1, 1, 0, 3, 2, 1, 0, 0, 0, 1, 0, 2, 1, 2, 4, 0, 1, 2, 3, 0, 1, 0,\n",
       "       2, 0, 1, 4, 1, 0, 1, 1, 1, 0, 2, 1, 0, 1, 0, 0, 1, 2, 2, 0, 1, 1,\n",
       "       0, 3, 0, 0, 1, 1, 0, 0, 1, 2, 2, 0, 0, 1, 2, 1, 1, 1, 2, 1, 2, 3,\n",
       "       2, 2, 0, 1, 0, 1, 0, 2, 0, 2, 1, 2, 1, 1, 1, 3, 2, 1, 0, 2, 0, 1,\n",
       "       3, 0, 0, 2, 2, 1, 0, 0, 4, 2, 2, 1, 0, 0, 0, 2, 3, 2, 0, 1, 0, 0,\n",
       "       1, 1, 0, 0, 1, 0, 1, 0, 1, 1, 0, 2, 2, 1, 0, 4, 1, 1, 1, 1, 0, 3,\n",
       "       0, 1, 0, 0, 2, 1, 0, 0, 2, 3, 0, 1, 0, 1, 1, 2, 0, 3, 1, 1, 1, 0,\n",
       "       0, 0, 3, 1, 2, 1, 1, 1, 3, 1, 0, 0, 0, 1, 1, 2, 2, 0, 3, 1, 1, 1,\n",
       "       1, 2, 1, 3, 1, 2, 0, 1, 1, 0, 2, 1, 0, 1, 1, 0, 0, 1, 1, 0, 0, 2,\n",
       "       2, 1, 0, 1, 1, 2, 2, 1, 1, 1, 1, 1, 1, 0, 0, 0, 0, 2, 1, 0, 2, 0,\n",
       "       0, 0, 3, 0, 1, 3, 1, 2, 0, 1, 1, 1, 2, 1, 2, 2, 1, 1, 1, 0, 1, 1,\n",
       "       0, 0, 1, 0, 3, 1, 1, 0, 1, 0, 0, 0, 2, 1, 0, 0, 2, 2, 2, 1, 1, 2,\n",
       "       1, 1, 1, 1, 0, 0, 2, 1, 4, 1, 0, 1, 0, 1, 0, 2, 1, 1, 1, 1, 1, 0,\n",
       "       1, 1, 1, 1, 0, 1, 1, 0, 1, 0, 1, 2, 0, 1, 0, 0, 1, 0, 0, 0, 3, 0,\n",
       "       1, 0, 1, 0, 1, 0, 1, 0, 0, 0])"
      ]
     },
     "execution_count": 5,
     "metadata": {},
     "output_type": "execute_result"
    }
   ],
   "source": [
    "outcomes_A"
   ]
  },
  {
   "cell_type": "markdown",
   "id": "311c52c3",
   "metadata": {},
   "source": [
    "Next, we can calculate the conversion rates and perform hypothesis testing to determine whether the difference between the two rates is statistically significant."
   ]
  },
  {
   "cell_type": "code",
   "execution_count": 6,
   "id": "4f911e41",
   "metadata": {},
   "outputs": [
    {
     "name": "stdout",
     "output_type": "stream",
     "text": [
      "Group A: 408 ones, 341 zeros, the total is 749\n",
      "Group B: 325 ones, 305 zeros, the total is 630\n"
     ]
    }
   ],
   "source": [
    "# Count number of ones and zeros in outcomes for group A\n",
    "count_ones_A = np.count_nonzero(outcomes_A == 1)\n",
    "count_zeros_A = np.count_nonzero(outcomes_A == 0)\n",
    "total_A = count_ones_A + count_zeros_A\n",
    "\n",
    "# Count number of ones and zeros in outcomes for group B\n",
    "count_ones_B = np.count_nonzero(outcomes_B == 1)\n",
    "count_zeros_B = np.count_nonzero(outcomes_B == 0)\n",
    "total_B = count_ones_B + count_zeros_B\n",
    "\n",
    "# Print results\n",
    "print(f\"Group A: {count_ones_A} ones, {count_zeros_A} zeros, the total is {total_A}\")\n",
    "print(f\"Group B: {count_ones_B} ones, {count_zeros_B} zeros, the total is {total_B}\")"
   ]
  },
  {
   "cell_type": "code",
   "execution_count": 7,
   "id": "06e9ce9c",
   "metadata": {},
   "outputs": [
    {
     "name": "stdout",
     "output_type": "stream",
     "text": [
      "Conversion rate for group A: 54.47%\n",
      "Conversion rate for group B: 51.59%\n"
     ]
    }
   ],
   "source": [
    "conv_rate_A = count_ones_A / total_A\n",
    "conv_rate_B = count_ones_B / total_B\n",
    "\n",
    "print(f\"Conversion rate for group A: {conv_rate_A:.2%}\")\n",
    "print(f\"Conversion rate for group B: {conv_rate_B:.2%}\")"
   ]
  },
  {
   "cell_type": "code",
   "execution_count": 9,
   "id": "a3739760",
   "metadata": {},
   "outputs": [
    {
     "name": "stdout",
     "output_type": "stream",
     "text": [
      "T-statistic: -4.69\n",
      "P-value: 0.000\n"
     ]
    }
   ],
   "source": [
    "# Perform hypothesis testing\n",
    "t_stat, p_value = ttest_ind(outcomes_A, outcomes_B)\n",
    "\n",
    "print(f\"T-statistic: {t_stat:.2f}\")\n",
    "print(f\"P-value: {p_value:.3f}\")"
   ]
  },
  {
   "cell_type": "code",
   "execution_count": 10,
   "id": "59ce61c9",
   "metadata": {},
   "outputs": [
    {
     "name": "stdout",
     "output_type": "stream",
     "text": [
      "Reject null hypothesis\n"
     ]
    }
   ],
   "source": [
    "# Check significance level\n",
    "alpha = 0.05\n",
    "if p_value < alpha:\n",
    "    print(\"Reject null hypothesis\")\n",
    "else:\n",
    "    print(\"Fail to reject null hypothesis\")\n"
   ]
  },
  {
   "cell_type": "code",
   "execution_count": 9,
   "id": "a6a901ee",
   "metadata": {},
   "outputs": [
    {
     "name": "stdout",
     "output_type": "stream",
     "text": [
      "95% Confidence Interval: [-7.26%, 1.49%]\n"
     ]
    }
   ],
   "source": [
    "# Calculate confidence interval\n",
    "se = np.sqrt(conv_rate_A * (1 - conv_rate_A) / n + conv_rate_B * (1 - conv_rate_B) / n)\n",
    "margin_error = 1.96 * se\n",
    "ci_low = (conv_rate_B - conv_rate_A) - margin_error\n",
    "ci_high = (conv_rate_B - conv_rate_A) + margin_error\n",
    "print(f\"95% Confidence Interval: [{ci_low:.2%}, {ci_high:.2%}]\")"
   ]
  },
  {
   "cell_type": "code",
   "execution_count": 1,
   "id": "a60d65af",
   "metadata": {},
   "outputs": [
    {
     "name": "stderr",
     "output_type": "stream",
     "text": [
      "C:\\Users\\Brayo G\\Documents\\my program prac\\anaconda 3\\lib\\site-packages\\pyfolio\\pos.py:26: UserWarning: Module \"zipline.assets\" not found; mutltipliers will not be applied to position notionals.\n",
      "  warnings.warn(\n"
     ]
    }
   ],
   "source": [
    "import pyfolio "
   ]
  },
  {
   "cell_type": "code",
   "execution_count": null,
   "id": "dccf402e",
   "metadata": {},
   "outputs": [],
   "source": []
  }
 ],
 "metadata": {
  "kernelspec": {
   "display_name": "Python 3 (ipykernel)",
   "language": "python",
   "name": "python3"
  },
  "language_info": {
   "codemirror_mode": {
    "name": "ipython",
    "version": 3
   },
   "file_extension": ".py",
   "mimetype": "text/x-python",
   "name": "python",
   "nbconvert_exporter": "python",
   "pygments_lexer": "ipython3",
   "version": "3.10.9"
  }
 },
 "nbformat": 4,
 "nbformat_minor": 5
}
